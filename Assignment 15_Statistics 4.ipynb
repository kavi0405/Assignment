{
 "cells": [
  {
   "cell_type": "markdown",
   "metadata": {},
   "source": [
    "### Assignment 15: Statistics - 4"
   ]
  },
  {
   "cell_type": "code",
   "execution_count": 1,
   "metadata": {},
   "outputs": [],
   "source": [
    "# Importing Libraries\n",
    "\n",
    "from scipy import stats as sts\n",
    "import statsmodels as sm\n",
    "import numpy as np\n",
    "import pandas as pd"
   ]
  },
  {
   "cell_type": "code",
   "execution_count": null,
   "metadata": {},
   "outputs": [],
   "source": []
  },
  {
   "cell_type": "markdown",
   "metadata": {},
   "source": [
    "##### Q1: Is gender independent of education level? A random sample of 395 people were surveyed and each person was asked to report the highest education level they obtained. The data that resulted from the survey is summarized in the following table:\n",
    "        High School Bachelors Masters Ph.d. Total\n",
    "Female      60         54        46     41   201\n",
    "Male        40 44 53 57 194\n",
    "Total 100 98 99 98 395\n",
    "##### Question: Are gender and education level dependent at 5% level of significance? In other words, given the data collected above, is there a relationship between the gender of an individual and the level of education that they have obtained? "
   ]
  },
  {
   "cell_type": "code",
   "execution_count": 2,
   "metadata": {},
   "outputs": [],
   "source": [
    "H0 = 'Gender and education level are independent of each other .'\n",
    "H1 = 'Gender and education level are dependent of each other.'"
   ]
  },
  {
   "cell_type": "code",
   "execution_count": 3,
   "metadata": {},
   "outputs": [
    {
     "name": "stdout",
     "output_type": "stream",
     "text": [
      "        High School  Bachelors  Masters  Ph.D\n",
      "Female           60         54       46    41\n",
      "Male             40         44       53    57\n"
     ]
    }
   ],
   "source": [
    "data = [(60, 54, 46, 41), (40, 44, 53, 57)]\n",
    "edu = pd.DataFrame(data, columns=['High School', 'Bachelors', 'Masters', 'Ph.D'], index=['Female', 'Male'])\n",
    "print(edu)"
   ]
  },
  {
   "cell_type": "code",
   "execution_count": 4,
   "metadata": {},
   "outputs": [
    {
     "name": "stdout",
     "output_type": "stream",
     "text": [
      "Expected Frequency:\n",
      " [[50.88607595 49.86835443 50.37721519 49.86835443]\n",
      " [49.11392405 48.13164557 48.62278481 48.13164557]]\n",
      "Calculated Chi Square value =  8.006066246262538\n",
      " Table Chi Square value at 5% SL=  7.814727903251179\n"
     ]
    }
   ],
   "source": [
    "chi_calc = sts.chi2_contingency(edu)\n",
    "print('Expected Frequency:\\n', chi_calc[3])\n",
    "print('Calculated Chi Square value = ', chi_calc[0])\n",
    "chi_table = sts.chi2.ppf(q=0.95,df=chi_calc[2])\n",
    "print(' Table Chi Square value at 5% SL= ', chi_table)"
   ]
  },
  {
   "cell_type": "code",
   "execution_count": 5,
   "metadata": {},
   "outputs": [
    {
     "name": "stdout",
     "output_type": "stream",
     "text": [
      "By performing hypothesis test at 5% level of significance:\n",
      "Test falls in critical region. Hence, reject Null Hypothesis\n",
      "The acceptance of alternative hypothesis may not be due to random chance\n",
      "Gender and education level are dependent of each other.\n"
     ]
    }
   ],
   "source": [
    "print('By performing hypothesis test at 5% level of significance:')\n",
    "if chi_table < chi_calc[0]:\n",
    "    print('Test falls in critical region. Hence, reject Null Hypothesis')\n",
    "    print('The acceptance of alternative hypothesis may not be due to random chance')\n",
    "    print(H1)\n",
    "else:\n",
    "    print('Test does not fall in critical region. Hence, accept Null Hypothesis')\n",
    "    print(H0)"
   ]
  },
  {
   "cell_type": "code",
   "execution_count": null,
   "metadata": {},
   "outputs": [],
   "source": []
  },
  {
   "cell_type": "markdown",
   "metadata": {},
   "source": [
    "##### Q2: Using the following data, perform a oneway analysis of variance using α=.05. Write up the results in APA format.\n",
    "[Group1: 51, 45, 33, 45, 67]\n",
    "[Group2: 23, 43, 23, 43, 45]\n",
    "[Group3: 56, 76, 74, 87, 56]"
   ]
  },
  {
   "cell_type": "code",
   "execution_count": 6,
   "metadata": {},
   "outputs": [],
   "source": [
    "from scipy.stats import f_oneway"
   ]
  },
  {
   "cell_type": "code",
   "execution_count": 7,
   "metadata": {},
   "outputs": [],
   "source": [
    "G1 = [51, 45, 33, 45, 67]\n",
    "G2 = [23, 43, 23, 43, 45]\n",
    "G3 = [56, 76, 74, 87, 56]\n",
    "k = 3\n",
    "n = len(G1) + len(G2) + len(G3)"
   ]
  },
  {
   "cell_type": "code",
   "execution_count": 8,
   "metadata": {},
   "outputs": [],
   "source": [
    "H0 = 'There is no difference between the groups.'\n",
    "H1 = 'There is a difference between the groups.'"
   ]
  },
  {
   "cell_type": "code",
   "execution_count": 9,
   "metadata": {},
   "outputs": [
    {
     "name": "stdout",
     "output_type": "stream",
     "text": [
      "F Statistic =  9.747205503009463\n",
      "p value =  0.0030597541434430556\n"
     ]
    }
   ],
   "source": [
    "f_score = f_oneway(G1, G2, G3)\n",
    "print('F Statistic = ', f_score[0])\n",
    "print('p value = ', f_score[1])"
   ]
  },
  {
   "cell_type": "code",
   "execution_count": 10,
   "metadata": {},
   "outputs": [],
   "source": [
    "f_table = sts.f.ppf(q=0.95, dfn=k, dfd=n-k)"
   ]
  },
  {
   "cell_type": "code",
   "execution_count": 11,
   "metadata": {},
   "outputs": [
    {
     "name": "stdout",
     "output_type": "stream",
     "text": [
      "By performing hypothesis test at 5% level of significance:\n",
      "Test falls in critical region. Hence, reject Null Hypothesis\n",
      "The acceptance of alternative hypothesis may not be due to random chance\n",
      "There is a difference between the groups.\n"
     ]
    }
   ],
   "source": [
    "print('By performing hypothesis test at 5% level of significance:')\n",
    "if f_table < f_score[0]:\n",
    "    print('Test falls in critical region. Hence, reject Null Hypothesis')\n",
    "    print('The acceptance of alternative hypothesis may not be due to random chance')\n",
    "    print(H1)\n",
    "else:\n",
    "    print('Test does not fall in critical region. Hence, accept Null Hypothesis')\n",
    "    print(H0)"
   ]
  },
  {
   "cell_type": "code",
   "execution_count": null,
   "metadata": {},
   "outputs": [],
   "source": []
  },
  {
   "cell_type": "markdown",
   "metadata": {},
   "source": [
    "##### Q3: Calculate F Test for given 10, 20, 30, 40, 50 and 5,10,15, 20, 25."
   ]
  },
  {
   "cell_type": "code",
   "execution_count": 12,
   "metadata": {},
   "outputs": [],
   "source": [
    "G1 = [10, 20, 30, 40, 50]\n",
    "G2 = [5, 10, 15, 20, 25]\n",
    "k = 2\n",
    "n = len(G1) + len(G2)"
   ]
  },
  {
   "cell_type": "code",
   "execution_count": 13,
   "metadata": {},
   "outputs": [],
   "source": [
    "H0 = 'There is no difference between the groups.'\n",
    "H1 = 'There is a difference between the groups.'"
   ]
  },
  {
   "cell_type": "code",
   "execution_count": 14,
   "metadata": {},
   "outputs": [
    {
     "name": "stdout",
     "output_type": "stream",
     "text": [
      "F Statistic =  3.6\n",
      "p value =  0.0943497728424377\n"
     ]
    }
   ],
   "source": [
    "f_score = f_oneway(G1, G2)\n",
    "print('F Statistic = ', f_score[0])\n",
    "print('p value = ', f_score[1])"
   ]
  },
  {
   "cell_type": "code",
   "execution_count": 15,
   "metadata": {},
   "outputs": [],
   "source": [
    "f_table = sts.f.ppf(q=0.95, dfn=k, dfd=n-k)"
   ]
  },
  {
   "cell_type": "code",
   "execution_count": 16,
   "metadata": {},
   "outputs": [
    {
     "name": "stdout",
     "output_type": "stream",
     "text": [
      "By performing hypothesis test at 5% level of significance:\n",
      "Test does not fall in critical region. Hence, accept Null Hypothesis\n",
      "There is no difference between the groups.\n"
     ]
    }
   ],
   "source": [
    "print('By performing hypothesis test at 5% level of significance:')\n",
    "if f_table < f_score[0]:\n",
    "    print('Test falls in critical region. Hence, reject Null Hypothesis')\n",
    "    print('The acceptance of alternative hypothesis may not be due to random chance')\n",
    "    print(H1)\n",
    "else:\n",
    "    print('Test does not fall in critical region. Hence, accept Null Hypothesis')\n",
    "    print(H0)"
   ]
  },
  {
   "cell_type": "code",
   "execution_count": null,
   "metadata": {},
   "outputs": [],
   "source": []
  }
 ],
 "metadata": {
  "kernelspec": {
   "display_name": "Python 3",
   "language": "python",
   "name": "python3"
  },
  "language_info": {
   "codemirror_mode": {
    "name": "ipython",
    "version": 3
   },
   "file_extension": ".py",
   "mimetype": "text/x-python",
   "name": "python",
   "nbconvert_exporter": "python",
   "pygments_lexer": "ipython3",
   "version": "3.7.6"
  }
 },
 "nbformat": 4,
 "nbformat_minor": 4
}
