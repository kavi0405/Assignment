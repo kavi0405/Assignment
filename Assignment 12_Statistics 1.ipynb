{
 "cells": [
  {
   "cell_type": "markdown",
   "metadata": {},
   "source": [
    "### Assignment 12 - Statistics - I"
   ]
  },
  {
   "cell_type": "code",
   "execution_count": 1,
   "metadata": {},
   "outputs": [],
   "source": [
    "import numpy as np\n",
    "import statistics as st\n",
    "import scipy.stats as sts\n",
    "import matplotlib.pyplot as plt"
   ]
  },
  {
   "cell_type": "markdown",
   "metadata": {},
   "source": [
    "##### Q1: Calculate the mean, median, mode and standard deviation\n",
    "The marks awarded for an assignment set for a Year 8 class of 20 students were as follows:\n",
    "6 7 5 7 7 8 7 6 9 7 4 10 6 8 8 9 5 6 4 8"
   ]
  },
  {
   "cell_type": "markdown",
   "metadata": {},
   "source": [
    "##### Q2: Calculate the mean, median, mode and standard deviation\n",
    "The number of calls from motorists per day for roadside service was recorded for a particular month:\n",
    "28, 122, 217, 130, 120, 86, 80, 90, 140, 120, 70, 40, 145, 113, 90, 68, 174, 194, 170, 100, 75, 104, 97, 75, 123, 100, 75, 104, 97, 75, 123, 100, 89, 120, 109"
   ]
  },
  {
   "cell_type": "code",
   "execution_count": 2,
   "metadata": {},
   "outputs": [],
   "source": [
    "mark=[6, 7, 5, 7, 7, 8, 7, 6, 9, 7, 4, 10, 6, 8, 8, 9, 5, 6, 4, 8]"
   ]
  },
  {
   "cell_type": "code",
   "execution_count": 3,
   "metadata": {},
   "outputs": [],
   "source": [
    "calls=[28, 122, 217, 130, 120, 86, 80, 90, 140, 120, 70, 40, 145, 113, 90, 68, 174, 194, 170, 100, 75, 104, 97, 75, 123, 100, 75, 104, 97, 75, 123, 100, 89, 120, 109]"
   ]
  },
  {
   "cell_type": "code",
   "execution_count": 4,
   "metadata": {},
   "outputs": [],
   "source": [
    "def report(var):\n",
    "    print('Mean = ',st.mean(var))\n",
    "    print('Median = ',st.median(var))\n",
    "    print('Mode = ',st.mode(var))\n",
    "    print('Standard Deviation = ',st.pstdev(var))"
   ]
  },
  {
   "cell_type": "code",
   "execution_count": 5,
   "metadata": {},
   "outputs": [
    {
     "name": "stdout",
     "output_type": "stream",
     "text": [
      " For Assignment Marks\n",
      "Mean =  6.85\n",
      "Median =  7.0\n",
      "Mode =  7\n",
      "Standard Deviation =  1.5898113095584647\n"
     ]
    }
   ],
   "source": [
    "# For Question 1:\n",
    "print(' For Assignment Marks')\n",
    "report(mark)"
   ]
  },
  {
   "cell_type": "code",
   "execution_count": 6,
   "metadata": {},
   "outputs": [
    {
     "name": "stdout",
     "output_type": "stream",
     "text": [
      "For Motorists calls\n",
      "Mean =  107.51428571428572\n",
      "Median =  100\n",
      "Mode =  75\n",
      "Standard Deviation =  38.77287080168403\n"
     ]
    }
   ],
   "source": [
    "# For Question 2:\n",
    "print('For Motorists calls')\n",
    "report(calls)"
   ]
  },
  {
   "cell_type": "code",
   "execution_count": null,
   "metadata": {},
   "outputs": [],
   "source": []
  },
  {
   "cell_type": "markdown",
   "metadata": {},
   "source": [
    "##### Q3: The number of times I go to the gym in weekdays, are given below along with its associated probability:\n",
    "x = 0, 1, 2, 3, 4, 5\n",
    "        f(x) = 0.09, 0.15, 0.40, 0.25, 0.10, 0.01\n",
    "Calculate the mean no. of workouts in a week. Also evaluate the variance involved in it."
   ]
  },
  {
   "cell_type": "code",
   "execution_count": 7,
   "metadata": {},
   "outputs": [],
   "source": [
    "x=list(range(6))\n",
    "freq=[0.09, 0.15, 0.40, 0.25, 0.10, 0.01]"
   ]
  },
  {
   "cell_type": "code",
   "execution_count": 8,
   "metadata": {},
   "outputs": [
    {
     "name": "stdout",
     "output_type": "stream",
     "text": [
      "Mean =  2.15\n",
      "Variance =  1.2275\n"
     ]
    }
   ],
   "source": [
    "avg=np.average(x,weights=freq)\n",
    "dev=freq*(x-avg)**2\n",
    "var=dev.sum()/sum(freq)\n",
    "print('Mean = ',avg)\n",
    "print('Variance = ',var)"
   ]
  },
  {
   "cell_type": "code",
   "execution_count": null,
   "metadata": {},
   "outputs": [],
   "source": []
  },
  {
   "cell_type": "markdown",
   "metadata": {},
   "source": [
    "##### Q4: Let the continuous random variable D denote the diameter of the hole drilled in an aluminum sheet. The target diameter to be achieved is 12.5mm. Random disturbances in the process often result in inaccuracy. Historical data shows that the distribution of D can be modelled by the PDF (𝑑) = 20𝑒−20(𝑑−12.5), 𝑑 ≥ 12.5. If a part with diameter > 12.6 mm needs to be scrapped, what is the proportion of those parts? What is the CDF when the diameter is of 11 mm? What is your conclusion regarding the proportion of scraps? "
   ]
  },
  {
   "cell_type": "code",
   "execution_count": 9,
   "metadata": {},
   "outputs": [
    {
     "name": "stdout",
     "output_type": "stream",
     "text": [
      "Proportion of parts to be scrapped with diameter > 12.6 mm is:\n"
     ]
    },
    {
     "data": {
      "text/plain": [
       "0.4601721627229711"
      ]
     },
     "execution_count": 9,
     "metadata": {},
     "output_type": "execute_result"
    }
   ],
   "source": [
    "print('Proportion of parts to be scrapped with diameter > 12.6 mm is:')\n",
    "1-(sts.norm(12.5).cdf(12.6))"
   ]
  },
  {
   "cell_type": "code",
   "execution_count": 10,
   "metadata": {},
   "outputs": [
    {
     "name": "stdout",
     "output_type": "stream",
     "text": [
      "CDF when the diameter of 11 mm is:\n"
     ]
    },
    {
     "data": {
      "text/plain": [
       "0.06680720126885807"
      ]
     },
     "execution_count": 10,
     "metadata": {},
     "output_type": "execute_result"
    }
   ],
   "source": [
    "print('CDF when the diameter of 11 mm is:')\n",
    "sts.norm(12.5).cdf(11)"
   ]
  },
  {
   "cell_type": "markdown",
   "metadata": {},
   "source": [
    "The proportion of scarp is low when the diameter is deviating more from the target diameter."
   ]
  },
  {
   "cell_type": "code",
   "execution_count": null,
   "metadata": {},
   "outputs": [],
   "source": []
  },
  {
   "cell_type": "markdown",
   "metadata": {},
   "source": [
    "##### Q5: A company manufactures LED bulbs with a faulty rate of 30%. If I randomly select 6 chosen LEDs, what is the probability of having 2 faulty LEDs in my sample? Calculate the average value of this process. Also evaluate the standard deviation associated with it."
   ]
  },
  {
   "cell_type": "code",
   "execution_count": 11,
   "metadata": {},
   "outputs": [],
   "source": [
    "n=6 \n",
    "p=0.3\n",
    "k=2"
   ]
  },
  {
   "cell_type": "code",
   "execution_count": 12,
   "metadata": {},
   "outputs": [
    {
     "name": "stdout",
     "output_type": "stream",
     "text": [
      "Probability of having 2 faulty LEDs in sample:\n"
     ]
    },
    {
     "data": {
      "text/plain": [
       "0.32413499999999995"
      ]
     },
     "execution_count": 12,
     "metadata": {},
     "output_type": "execute_result"
    }
   ],
   "source": [
    "print('Probability of having 2 faulty LEDs in sample:')\n",
    "sts.binom.pmf(k,n,p)"
   ]
  },
  {
   "cell_type": "code",
   "execution_count": 13,
   "metadata": {},
   "outputs": [],
   "source": [
    "mean,var=sts.binom.stats(n,p,moments='mv')"
   ]
  },
  {
   "cell_type": "code",
   "execution_count": 14,
   "metadata": {},
   "outputs": [
    {
     "name": "stdout",
     "output_type": "stream",
     "text": [
      "Mean =  1.7999999999999998\n",
      "Standard Deviation =  1.1224972160321822\n"
     ]
    }
   ],
   "source": [
    "print('Mean = ',mean)\n",
    "print('Standard Deviation = ',np.sqrt(var))"
   ]
  },
  {
   "cell_type": "code",
   "execution_count": null,
   "metadata": {},
   "outputs": [],
   "source": []
  },
  {
   "cell_type": "markdown",
   "metadata": {},
   "source": [
    "##### Q6: Gaurav and Barakha are both preparing for entrance exams. Gaurav attempts to solve 8 questions per day with a correction rate of 75%, while Barakha averages around 12 questions per day with a correction rate of 45%. What is the probability that each of them will solve 5 questions correctly? What happens in cases of 4 and 6 correct solutions? What do you infer from it? What are the two main governing factors affecting their ability to solve questions correctly? Give a pictorial representation of the same to validate your answer."
   ]
  },
  {
   "cell_type": "code",
   "execution_count": 15,
   "metadata": {},
   "outputs": [],
   "source": [
    "Gau_n,Gau_p=8,0.75\n",
    "Bar_n,Bar_p=12,0.45"
   ]
  },
  {
   "cell_type": "code",
   "execution_count": 16,
   "metadata": {},
   "outputs": [],
   "source": [
    "def Binomial_fun(k,n,p):\n",
    "    return sts.binom.pmf(k,n,p)"
   ]
  },
  {
   "cell_type": "code",
   "execution_count": 17,
   "metadata": {},
   "outputs": [
    {
     "name": "stdout",
     "output_type": "stream",
     "text": [
      "Probability of solving 5 questions correctly:\n",
      "Gaurav =  0.20764160156250022\n",
      "Barakha =  0.22249823843265792\n"
     ]
    }
   ],
   "source": [
    "# Probability of each of them will solve 5 questions correctly\n",
    "print('Probability of solving 5 questions correctly:')\n",
    "print('Gaurav = ',Binomial_fun(5,Gau_n,Gau_p))\n",
    "print('Barakha = ',Binomial_fun(5,Bar_n,Bar_p))"
   ]
  },
  {
   "cell_type": "code",
   "execution_count": 18,
   "metadata": {},
   "outputs": [
    {
     "name": "stdout",
     "output_type": "stream",
     "text": [
      "Probability of solving 4 questions correctly:\n",
      "Gaurav =  0.08651733398437506\n",
      "Barakha =  0.16996393213605795\n"
     ]
    }
   ],
   "source": [
    "# Probability of each of them will solve 4 questions correctly\n",
    "print('Probability of solving 4 questions correctly:')\n",
    "print('Gaurav = ',Binomial_fun(4,Gau_n,Gau_p))\n",
    "print('Barakha = ',Binomial_fun(4,Bar_n,Bar_p))"
   ]
  },
  {
   "cell_type": "code",
   "execution_count": 19,
   "metadata": {},
   "outputs": [
    {
     "name": "stdout",
     "output_type": "stream",
     "text": [
      "Probability of solving 6 questions correctly:\n",
      "Gaurav =  0.31146240234375017\n",
      "Barakha =  0.21238468214026424\n"
     ]
    }
   ],
   "source": [
    "# Probability of each of them will solve 6 questions correctly\n",
    "print('Probability of solving 6 questions correctly:')\n",
    "print('Gaurav = ',Binomial_fun(6,Gau_n,Gau_p))\n",
    "print('Barakha = ',Binomial_fun(6,Bar_n,Bar_p))"
   ]
  },
  {
   "cell_type": "markdown",
   "metadata": {},
   "source": [
    "Inference:\n",
    "If less number of questions to be solved correctly, then the probability is greater for the student who attempts more questions and more number of questions to be solved correctly, then the probability is greater for the student who attempts for lesser nummber of questions.\n",
    "\n",
    "The factors affecting their ability to solve questions correctly are:-\n",
    "1. Number of Questions attempted\n",
    "2. Correction Rate"
   ]
  },
  {
   "cell_type": "code",
   "execution_count": 20,
   "metadata": {},
   "outputs": [
    {
     "data": {
      "image/png": "[encoded data removed]",
      "text/plain": [
       "<Figure size 720x360 with 1 Axes>"
      ]
     },
     "metadata": {
      "needs_background": "light"
     },
     "output_type": "display_data"
    }
   ],
   "source": [
    "fig,ax=plt.subplots(figsize=(10,5))\n",
    "ax.plot(4,sts.binom.pmf(4,Gau_n,Gau_p),'ro', label='Gaurav_4')\n",
    "ax.plot(5,sts.binom.pmf(5,Gau_n,Gau_p),'bo', label='Gaurav_5')\n",
    "ax.plot(6,sts.binom.pmf(6,Gau_n,Gau_p),'go', label='Gaurav_6')\n",
    "\n",
    "ax.plot(4,sts.binom.pmf(4,Bar_n,Bar_p),'r*', label='Barakah_4')\n",
    "ax.plot(5,sts.binom.pmf(5,Bar_n,Bar_p),'b*', label='Barakah_5')\n",
    "ax.plot(6,sts.binom.pmf(6,Bar_n,Bar_p),'g*', label='Barakah_6')\n",
    "\n",
    "plt.legend()\n",
    "plt.show()"
   ]
  },
  {
   "cell_type": "code",
   "execution_count": null,
   "metadata": {},
   "outputs": [],
   "source": []
  },
  {
   "cell_type": "markdown",
   "metadata": {},
   "source": [
    "##### Q7: Customers arrive at a rate of 72 per hour to my shop. What is the probability of 𝑘 customers arriving in 4 minutes? a) 5 customers, b) not more than 3 customers, c) more than 3 customers. Give a pictorial representation of the same to validate your answer."
   ]
  },
  {
   "cell_type": "code",
   "execution_count": 21,
   "metadata": {},
   "outputs": [],
   "source": [
    "interval=4\n",
    "arrival_rate=72\n",
    "lam=(72/60)*interval # converted to arrival rate per minute"
   ]
  },
  {
   "cell_type": "code",
   "execution_count": 22,
   "metadata": {},
   "outputs": [],
   "source": [
    "def poisson_dist(x):\n",
    "    return sts.poisson.pmf(x,lam)"
   ]
  },
  {
   "cell_type": "code",
   "execution_count": 23,
   "metadata": {},
   "outputs": [
    {
     "name": "stdout",
     "output_type": "stream",
     "text": [
      "Arrival Rate of 5 customers:\n"
     ]
    },
    {
     "data": {
      "text/plain": [
       "0.17474768364388296"
      ]
     },
     "execution_count": 23,
     "metadata": {},
     "output_type": "execute_result"
    }
   ],
   "source": [
    "# 5 customers\n",
    "print('Arrival Rate of 5 customers:')\n",
    "poisson_dist(5)"
   ]
  },
  {
   "cell_type": "code",
   "execution_count": 24,
   "metadata": {},
   "outputs": [
    {
     "name": "stdout",
     "output_type": "stream",
     "text": [
      "Arrival Rate of not more than 3 customers:\n"
     ]
    },
    {
     "data": {
      "text/plain": [
       "0.29422991649656405"
      ]
     },
     "execution_count": 24,
     "metadata": {},
     "output_type": "execute_result"
    }
   ],
   "source": [
    "# Not more than 3 customers\n",
    "# P(X<=3) = P(X=0)+P(X=1)+P(X=2)+P(X=3)\n",
    "print('Arrival Rate of not more than 3 customers:')\n",
    "poisson_dist(0)+poisson_dist(1)+poisson_dist(2)+poisson_dist(3)"
   ]
  },
  {
   "cell_type": "code",
   "execution_count": 25,
   "metadata": {},
   "outputs": [
    {
     "name": "stdout",
     "output_type": "stream",
     "text": [
      "Arrival Rate of more than 3 customers:\n"
     ]
    },
    {
     "data": {
      "text/plain": [
       "0.705770083503436"
      ]
     },
     "execution_count": 25,
     "metadata": {},
     "output_type": "execute_result"
    }
   ],
   "source": [
    "# More than 3 customers\n",
    "# P(X>3) = 1 - P(X<=3)\n",
    "print('Arrival Rate of more than 3 customers:')\n",
    "1-(poisson_dist(0)+poisson_dist(1)+poisson_dist(2)+poisson_dist(3))"
   ]
  },
  {
   "cell_type": "code",
   "execution_count": 26,
   "metadata": {},
   "outputs": [
    {
     "data": {
      "image/png": "[encoded data removed]",
      "text/plain": [
       "<Figure size 720x360 with 1 Axes>"
      ]
     },
     "metadata": {
      "needs_background": "light"
     },
     "output_type": "display_data"
    }
   ],
   "source": [
    "fig,ax=plt.subplots(figsize=(10,5))\n",
    "\n",
    "ax.plot(0,sts.poisson.pmf(0,lam),'r*',label='0')\n",
    "ax.plot(1,sts.poisson.pmf(1,lam),'g*',label='1')\n",
    "ax.plot(2,sts.poisson.pmf(2,lam),'b*',label='2')\n",
    "ax.plot(3,sts.poisson.pmf(3,lam),'ro',label='3')\n",
    "ax.plot(4,sts.poisson.pmf(4,lam),'go',label='4')\n",
    "ax.plot(5,sts.poisson.pmf(5,lam),'bo',label='5')\n",
    "\n",
    "plt.legend()\n",
    "plt.show()"
   ]
  },
  {
   "cell_type": "code",
   "execution_count": null,
   "metadata": {},
   "outputs": [],
   "source": []
  },
  {
   "cell_type": "markdown",
   "metadata": {},
   "source": [
    "##### Q8: I work as a data analyst in Aeon Learning Pvt. Ltd. After analyzing data, I make reports, where I have the efficiency of entering 77 words per minute with 6 errors per hour. What is the probability that I will commit 2 errors in a 455-word financial report? What happens when the no. of words increases/decreases (in case of 1000 words, 255 words)? How is the 𝜆 affected? How does it influence the PMF? Give a pictorial representation of the same to validate your answer."
   ]
  },
  {
   "cell_type": "code",
   "execution_count": 27,
   "metadata": {},
   "outputs": [],
   "source": [
    "err=6/60 # converting errors per minute"
   ]
  },
  {
   "cell_type": "code",
   "execution_count": 28,
   "metadata": {},
   "outputs": [],
   "source": [
    "def poisson_dist(words,error):\n",
    "    time=words/77 # Typing rate is 77 words per minute\n",
    "    print('Minutes taken to type ',words,' = ',time)\n",
    "    lam=err*time\n",
    "    return sts.poisson.pmf(error,lam)"
   ]
  },
  {
   "cell_type": "code",
   "execution_count": 29,
   "metadata": {},
   "outputs": [
    {
     "name": "stdout",
     "output_type": "stream",
     "text": [
      "Probability to commit 2 errors in 455 words:\n",
      "Minutes taken to type  455  =  5.909090909090909\n",
      "0.09669027375144444\n",
      "\n",
      "Probability to commit 2 errors in 1000 words:\n",
      "Minutes taken to type  1000  =  12.987012987012987\n",
      "0.23012815007300153\n",
      "\n",
      "Probability to commit 2 errors in 255 words:\n",
      "Minutes taken to type  255  =  3.311688311688312\n",
      "0.039377135392854125\n"
     ]
    }
   ],
   "source": [
    "print('Probability to commit 2 errors in 455 words:')\n",
    "print(poisson_dist(455,2))\n",
    "print('\\nProbability to commit 2 errors in 1000 words:')\n",
    "print(poisson_dist(1000,2))\n",
    "print('\\nProbability to commit 2 errors in 255 words:')\n",
    "print(poisson_dist(255,2))\n"
   ]
  },
  {
   "cell_type": "markdown",
   "metadata": {},
   "source": [
    "Since, errors per minute is a constant, lambda is affected by the number of words in the document.\n",
    "As the number of errors committed is fixed as 2, the pmf is dependent on lambda."
   ]
  },
  {
   "cell_type": "code",
   "execution_count": 30,
   "metadata": {},
   "outputs": [
    {
     "data": {
      "image/png": "[encoded data removed]",
      "text/plain": [
       "<Figure size 720x360 with 1 Axes>"
      ]
     },
     "metadata": {
      "needs_background": "light"
     },
     "output_type": "display_data"
    }
   ],
   "source": [
    "fig,ax=plt.subplots(figsize=(10,5))\n",
    "\n",
    "ax.plot(255,sts.poisson.pmf(2,(6/60)*(255/77)),'r*',label='255 words')\n",
    "ax.plot(455,sts.poisson.pmf(2,(6/60)*(455/77)),'g*',label='455 worrds')\n",
    "ax.plot(1000,sts.poisson.pmf(2,(6/60)*(1000/77)),'b*',label='1000 words')\n",
    "\n",
    "plt.legend()\n",
    "plt.show()"
   ]
  },
  {
   "cell_type": "code",
   "execution_count": null,
   "metadata": {},
   "outputs": [],
   "source": []
  },
  {
   "cell_type": "markdown",
   "metadata": {},
   "source": [
    "##### Q9: Let the continuous random variable D denote the diameter of the hole drilled in an aluminum sheet. The target diameter to be achieved is 12.5mm. Random disturbances in the process often result in inaccuracy. Historical data shows that the distribution of D can be modelled by the PDF, f(d) = 20e−20(d−12.5), d ≥ 12.5. If a part with diameter > 12.6 mm needs to be scrapped, what is the proportion of those parts? What is the CDF when the diameter is of 11 mm? What is the conclusion of this experiment?"
   ]
  },
  {
   "cell_type": "code",
   "execution_count": 31,
   "metadata": {},
   "outputs": [
    {
     "name": "stdout",
     "output_type": "stream",
     "text": [
      "Proportion of parts to be scrapped with diameter > 12.6 mm is:\n"
     ]
    },
    {
     "data": {
      "text/plain": [
       "0.4601721627229711"
      ]
     },
     "execution_count": 31,
     "metadata": {},
     "output_type": "execute_result"
    }
   ],
   "source": [
    "print('Proportion of parts to be scrapped with diameter > 12.6 mm is:')\n",
    "1-(sts.norm(12.5).cdf(12.6))"
   ]
  },
  {
   "cell_type": "code",
   "execution_count": 32,
   "metadata": {},
   "outputs": [
    {
     "name": "stdout",
     "output_type": "stream",
     "text": [
      "CDF when the diameter of 11 mm is:\n"
     ]
    },
    {
     "data": {
      "text/plain": [
       "0.06680720126885807"
      ]
     },
     "execution_count": 32,
     "metadata": {},
     "output_type": "execute_result"
    }
   ],
   "source": [
    "print('CDF when the diameter of 11 mm is:')\n",
    "sts.norm(12.5).cdf(11)"
   ]
  },
  {
   "cell_type": "markdown",
   "metadata": {},
   "source": [
    "The proportion of scarp is low when the diameter is deviating more from the target diameter."
   ]
  },
  {
   "cell_type": "code",
   "execution_count": null,
   "metadata": {},
   "outputs": [],
   "source": []
  },
  {
   "cell_type": "markdown",
   "metadata": {},
   "source": [
    "##### Q10: Please compute the following:\n",
    "\n",
    "a) P(Z > 1.26), . P(Z < −0.86), P(Z > −1.37), P(−1.25 < Z < 0.37), . P(Z ≤ −4.6)"
   ]
  },
  {
   "cell_type": "code",
   "execution_count": 33,
   "metadata": {},
   "outputs": [
    {
     "name": "stdout",
     "output_type": "stream",
     "text": [
      "P(Z > 1.26) =  0.10383468112130045\n",
      "P(Z < -0.86) =  0.1948945212518084\n",
      "P(Z > -1.37) =  0.914656549178033\n",
      "P(-1.25 < Z < 0.37) =  0.5386589811336914\n",
      "P(Z <= -4.6) =  2.1124547025028537e-06\n"
     ]
    }
   ],
   "source": [
    "print('P(Z > 1.26) = ',(1-sts.norm.cdf(1.26)))\n",
    "print('P(Z < -0.86) = ',sts.norm.cdf(-0.86))\n",
    "print('P(Z > -1.37) = ',(1-sts.norm.cdf(-1.37)))\n",
    "print('P(-1.25 < Z < 0.37) = ', sts.norm.cdf(0.37)-sts.norm.cdf(-1.25))\n",
    "print('P(Z <= -4.6) = ',sts.norm.cdf(-4.6))"
   ]
  },
  {
   "cell_type": "markdown",
   "metadata": {},
   "source": [
    "b) Find the value 𝑧 such that 𝑃(𝑍 > 𝑧) = 0.05"
   ]
  },
  {
   "cell_type": "code",
   "execution_count": 34,
   "metadata": {},
   "outputs": [
    {
     "name": "stdout",
     "output_type": "stream",
     "text": [
      "If P(Z > z) = 0.05, value of z is  1.6448536269514722\n"
     ]
    }
   ],
   "source": [
    "print('If P(Z > z) = 0.05, value of z is ', sts.norm.ppf(1-0.05))"
   ]
  },
  {
   "cell_type": "markdown",
   "metadata": {},
   "source": [
    "c) Find the value of 𝑧 such that 𝑃(−𝑧 < 𝑍 < 𝑧) = 0.99"
   ]
  },
  {
   "cell_type": "code",
   "execution_count": 35,
   "metadata": {},
   "outputs": [
    {
     "name": "stdout",
     "output_type": "stream",
     "text": [
      "If P(-z < Z <z) = 0.99, value of z is  2.3263478740408408\n"
     ]
    }
   ],
   "source": [
    "print('If P(-z < Z <z) = 0.99, value of z is ', sts.norm.ppf(0.99))"
   ]
  },
  {
   "cell_type": "code",
   "execution_count": null,
   "metadata": {},
   "outputs": [],
   "source": []
  },
  {
   "cell_type": "markdown",
   "metadata": {},
   "source": [
    "##### Q11: The current flow in a copper wire follow a normal distribution with a mean of 10 𝑚A and a variance of 4 (𝑚𝐴)2.\n",
    "What is the probability that a current measurement will exceed 13 𝑚𝐴? What is the probability that a current measurement is between 9 and 11mA? Determine the current measurement which has a probability of 0.98."
   ]
  },
  {
   "cell_type": "code",
   "execution_count": 36,
   "metadata": {},
   "outputs": [],
   "source": [
    "mu,std=10,2"
   ]
  },
  {
   "cell_type": "code",
   "execution_count": 37,
   "metadata": {},
   "outputs": [
    {
     "name": "stdout",
     "output_type": "stream",
     "text": [
      "Prob. of flow exceeds 13 =  0.06680720126885809\n"
     ]
    }
   ],
   "source": [
    "print('Prob. of flow exceeds 13 = ', (1-(sts.norm(mu,std).cdf(13))))"
   ]
  },
  {
   "cell_type": "code",
   "execution_count": 38,
   "metadata": {},
   "outputs": [
    {
     "name": "stdout",
     "output_type": "stream",
     "text": [
      "Prob. of flow between 9 and 11 =  0.38292492254802624\n"
     ]
    }
   ],
   "source": [
    "print('Prob. of flow between 9 and 11 = ', (sts.norm(mu,std).cdf(11))-(sts.norm(mu,std).cdf(9)))"
   ]
  },
  {
   "cell_type": "code",
   "execution_count": 39,
   "metadata": {},
   "outputs": [
    {
     "name": "stdout",
     "output_type": "stream",
     "text": [
      "Flow having the prob. 0.98 =  2.0537489106318225\n"
     ]
    }
   ],
   "source": [
    "print('Flow having the prob. 0.98 = ', sts.norm.ppf(0.98))"
   ]
  },
  {
   "cell_type": "code",
   "execution_count": null,
   "metadata": {},
   "outputs": [],
   "source": []
  },
  {
   "cell_type": "markdown",
   "metadata": {},
   "source": [
    "##### Q12: The shaft in a piston has its diameter normally distributed with a mean of 0.2508 inch and a standard deviation of 0.0005 inch. The specifications of the shaft are 0.2500 ∓ 0.0015 inch. What proportion of shafts are in sync with the specifications? If the process is centered so that the mean is equal to the target value of 0.2500, what proportion of shafts conform to the new specifications? What is your conclusion from this experiment?"
   ]
  },
  {
   "cell_type": "code",
   "execution_count": 40,
   "metadata": {},
   "outputs": [],
   "source": [
    "mu,std=0.2508,0.0005"
   ]
  },
  {
   "cell_type": "code",
   "execution_count": 41,
   "metadata": {},
   "outputs": [
    {
     "name": "stdout",
     "output_type": "stream",
     "text": [
      "Proportion of shafts that sync with specification 0.2500+-0.0015 is:\n"
     ]
    },
    {
     "data": {
      "text/plain": [
       "0.91924122831152"
      ]
     },
     "execution_count": 41,
     "metadata": {},
     "output_type": "execute_result"
    }
   ],
   "source": [
    "print('Proportion of shafts that sync with specification 0.2500+-0.0015 is:')\n",
    "sts.norm(mu,std).cdf(0.2500+0.0015)-sts.norm(mu,std).cdf(0.2500-0.0015)"
   ]
  },
  {
   "cell_type": "code",
   "execution_count": 42,
   "metadata": {},
   "outputs": [
    {
     "name": "stdout",
     "output_type": "stream",
     "text": [
      "Proportion of shafts conform to new mean as 0.2500 is:\n"
     ]
    },
    {
     "data": {
      "text/plain": [
       "0.9452007083004471"
      ]
     },
     "execution_count": 42,
     "metadata": {},
     "output_type": "execute_result"
    }
   ],
   "source": [
    "print('Proportion of shafts conform to new mean as 0.2500 is:')\n",
    "sts.norm(0.2500,std).cdf(0.2508)"
   ]
  },
  {
   "cell_type": "code",
   "execution_count": null,
   "metadata": {},
   "outputs": [],
   "source": []
  }
 ],
 "metadata": {
  "kernelspec": {
   "display_name": "Python 3",
   "language": "python",
   "name": "python3"
  },
  "language_info": {
   "codemirror_mode": {
    "name": "ipython",
    "version": 3
   },
   "file_extension": ".py",
   "mimetype": "text/x-python",
   "name": "python",
   "nbconvert_exporter": "python",
   "pygments_lexer": "ipython3",
   "version": "3.7.6"
  }
 },
 "nbformat": 4,
 "nbformat_minor": 4
}
