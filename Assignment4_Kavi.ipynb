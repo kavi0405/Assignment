{
 "cells": [
  {
   "cell_type": "markdown",
   "metadata": {},
   "source": [
    "##### Q1: Write a Python Program(with class concepts) to find the area of the triangle using the below formula.\n",
    "##### area = (s*(s-a)*(s-b)*(s-c)) ** 0.5\n",
    "##### Function to take the length of the sides of triangle from user should be defined in the parent class and function to calculate the area should be defined in subclass"
   ]
  },
  {
   "cell_type": "code",
   "execution_count": 1,
   "metadata": {},
   "outputs": [
    {
     "data": {
      "text/plain": [
       "96.82458365518542"
      ]
     },
     "execution_count": 1,
     "metadata": {},
     "output_type": "execute_result"
    }
   ],
   "source": [
    "class parent:\n",
    "    def __init__(self, a, b, c):\n",
    "        self.a, self.b, self.c = a,b,c\n",
    "class child(parent):\n",
    "    def __init__(self, *args):\n",
    "        parent.__init__(self, *args)\n",
    "    def calc_area(self):\n",
    "        s=(self.a+self.b+self.c)//float(2)\n",
    "        return (s*(s-self.a)*(s-self.b)*(s-self.c))**0.5\n",
    "obj=child(20,20,10)\n",
    "obj.calc_area()"
   ]
  },
  {
   "cell_type": "markdown",
   "metadata": {},
   "source": [
    "##### Q2: Write a function filter_long_words() that takes a list of words and an integer n and returns the list of words that are longer than n."
   ]
  },
  {
   "cell_type": "code",
   "execution_count": 2,
   "metadata": {},
   "outputs": [],
   "source": [
    "# Function to find the words longer than 'n'\n",
    "def filter_long_words(words,n):\n",
    "    return [i for i in words if len(i) > n ]"
   ]
  },
  {
   "cell_type": "code",
   "execution_count": 3,
   "metadata": {},
   "outputs": [
    {
     "name": "stdout",
     "output_type": "stream",
     "text": [
      "Enter a sentence: I am doing good\n",
      "Enter a number: 3\n"
     ]
    },
    {
     "data": {
      "text/plain": [
       "['doing', 'good']"
      ]
     },
     "execution_count": 3,
     "metadata": {},
     "output_type": "execute_result"
    }
   ],
   "source": [
    "sent=input('Enter a sentence: ').split()\n",
    "n=int(input('Enter a number: '))\n",
    "filter_long_words(sent,n)"
   ]
  },
  {
   "cell_type": "markdown",
   "metadata": {},
   "source": [
    "##### Q3: Write a Python program using function concept that maps list of words into a list of integers representing the lengths of the corresponding words."
   ]
  },
  {
   "cell_type": "code",
   "execution_count": 4,
   "metadata": {},
   "outputs": [],
   "source": [
    "def mapWordToLength(words):\n",
    "    return list(map( lambda x: len(x),words))"
   ]
  },
  {
   "cell_type": "code",
   "execution_count": 5,
   "metadata": {},
   "outputs": [
    {
     "data": {
      "text/plain": [
       "[2, 1, 2, 5, 4]"
      ]
     },
     "execution_count": 5,
     "metadata": {},
     "output_type": "execute_result"
    }
   ],
   "source": [
    "words=['Hi','I', 'am', 'doing', 'GOOD']\n",
    "mapWordToLength(words)"
   ]
  },
  {
   "cell_type": "markdown",
   "metadata": {},
   "source": [
    "##### Q4: Write a Python function which takes a character (i.e. a string of length 1) and returns True if it is a vowel, False otherwise."
   ]
  },
  {
   "cell_type": "code",
   "execution_count": 6,
   "metadata": {},
   "outputs": [],
   "source": [
    "def is_vowel(x):\n",
    "    v=['a','e','i','o','u','A','E','I','O','U']\n",
    "    return True if x in v else False"
   ]
  },
  {
   "cell_type": "code",
   "execution_count": 7,
   "metadata": {},
   "outputs": [
    {
     "name": "stdout",
     "output_type": "stream",
     "text": [
      "False\n",
      "False\n",
      "True\n",
      "False\n"
     ]
    }
   ],
   "source": [
    "print(is_vowel('Kavi'))\n",
    "print(is_vowel('B'))\n",
    "print(is_vowel('e'))\n",
    "print(is_vowel(5))"
   ]
  }
 ],
 "metadata": {
  "kernelspec": {
   "display_name": "Python 3",
   "language": "python",
   "name": "python3"
  },
  "language_info": {
   "codemirror_mode": {
    "name": "ipython",
    "version": 3
   },
   "file_extension": ".py",
   "mimetype": "text/x-python",
   "name": "python",
   "nbconvert_exporter": "python",
   "pygments_lexer": "ipython3",
   "version": "3.7.3"
  }
 },
 "nbformat": 4,
 "nbformat_minor": 2
}
