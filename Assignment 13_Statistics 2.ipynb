{
 "cells": [
  {
   "cell_type": "markdown",
   "metadata": {},
   "source": [
    "### Assignment 13: Statistics - 2"
   ]
  },
  {
   "cell_type": "markdown",
   "metadata": {},
   "source": [
    "##### Q1: In each of the following situations, state whether it is a correctly stated hypothesis testing problem and why?"
   ]
  },
  {
   "cell_type": "markdown",
   "metadata": {},
   "source": [
    "##### 𝐻0: 𝜇 = 25, 𝐻1: 𝜇 ≠ 25"
   ]
  },
  {
   "cell_type": "markdown",
   "metadata": {},
   "source": [
    "Yes. It is correctly stated. H0 contains some forms of equality and H1 is contradictory with H0"
   ]
  },
  {
   "cell_type": "markdown",
   "metadata": {},
   "source": [
    "##### 𝐻0: 𝜎 > 10, 𝐻1: 𝜎 = 10"
   ]
  },
  {
   "cell_type": "markdown",
   "metadata": {},
   "source": [
    "No. It is not correctly stated. THere is no form of equality condition in H0"
   ]
  },
  {
   "cell_type": "markdown",
   "metadata": {},
   "source": [
    "##### 𝐻0: 𝑥 = 50, 𝐻1: 𝑥 ≠ 50"
   ]
  },
  {
   "cell_type": "markdown",
   "metadata": {},
   "source": [
    "Yes. It is correctly stated. H0 has equality on sample mean and it contradicts with H1."
   ]
  },
  {
   "cell_type": "markdown",
   "metadata": {},
   "source": [
    "##### 𝐻0: 𝑝 = 0.1, 𝐻1: 𝑝 = 0.5"
   ]
  },
  {
   "cell_type": "markdown",
   "metadata": {},
   "source": [
    "No. It is not correctly stated. The proportions stated in hypothesis are with different values."
   ]
  },
  {
   "cell_type": "markdown",
   "metadata": {},
   "source": [
    "##### 𝐻0: 𝑠 = 30, 𝐻1: 𝑠 > 30"
   ]
  },
  {
   "cell_type": "markdown",
   "metadata": {},
   "source": [
    "Yes. It is correctly stated. Equality condition is there in H0 and it contradicts H1."
   ]
  },
  {
   "cell_type": "code",
   "execution_count": 34,
   "metadata": {},
   "outputs": [],
   "source": [
    "#Importing libraries"
   ]
  },
  {
   "cell_type": "code",
   "execution_count": 21,
   "metadata": {},
   "outputs": [
    {
     "name": "stdout",
     "output_type": "stream",
     "text": [
      "Requirement already satisfied: statsmodels in d:\\anaconda\\lib\\site-packages (0.11.0)\n",
      "Requirement already satisfied: numpy>=1.14 in d:\\anaconda\\lib\\site-packages (from statsmodels) (1.18.1)\n",
      "Requirement already satisfied: scipy>=1.0 in d:\\anaconda\\lib\\site-packages (from statsmodels) (1.4.1)\n",
      "Requirement already satisfied: pandas>=0.21 in d:\\anaconda\\lib\\site-packages (from statsmodels) (1.0.1)\n",
      "Requirement already satisfied: patsy>=0.5 in d:\\anaconda\\lib\\site-packages (from statsmodels) (0.5.1)\n",
      "Requirement already satisfied: python-dateutil>=2.6.1 in d:\\anaconda\\lib\\site-packages (from pandas>=0.21->statsmodels) (2.8.1)\n",
      "Requirement already satisfied: pytz>=2017.2 in d:\\anaconda\\lib\\site-packages (from pandas>=0.21->statsmodels) (2019.3)\n",
      "Requirement already satisfied: six in d:\\anaconda\\lib\\site-packages (from patsy>=0.5->statsmodels) (1.14.0)\n",
      "Note: you may need to restart the kernel to use updated packages.\n"
     ]
    }
   ],
   "source": [
    "pip install statsmodels"
   ]
  },
  {
   "cell_type": "code",
   "execution_count": 1,
   "metadata": {},
   "outputs": [],
   "source": [
    "from scipy import stats as sts\n",
    "import statsmodels as sm\n",
    "import numpy as np\n",
    "import pandas as pd"
   ]
  },
  {
   "cell_type": "code",
   "execution_count": null,
   "metadata": {},
   "outputs": [],
   "source": []
  },
  {
   "cell_type": "markdown",
   "metadata": {},
   "source": [
    "##### Q2: The college bookstore tells prospective students that the average cost of its textbooks is Rs. 52 with a standard deviation of Rs. 4.50. A group of smart statistics students thinks that the average cost is higher. To test the bookstore’s claim against their alternative, the students will select a random sample of size 100. Assume that the mean from their random sample is Rs. 52.80. Perform a hypothesis test at the 5% level of significance and state your decision."
   ]
  },
  {
   "cell_type": "code",
   "execution_count": 2,
   "metadata": {},
   "outputs": [],
   "source": [
    "H0='Null Hypothesis: Average cost of test books is Rs. 52'\n",
    "H1='Alternative Hypothesis: Average cost of text books is higher than Rs. 52'"
   ]
  },
  {
   "cell_type": "code",
   "execution_count": 3,
   "metadata": {},
   "outputs": [],
   "source": [
    "pop_mean, pop_sd, samp_mean, n =52, 4.5, 52.8, 100"
   ]
  },
  {
   "cell_type": "code",
   "execution_count": 4,
   "metadata": {},
   "outputs": [
    {
     "name": "stdout",
     "output_type": "stream",
     "text": [
      "Z statistic =  1.7777777777777715\n"
     ]
    }
   ],
   "source": [
    "se=pop_sd/np.sqrt(n)\n",
    "z_score=(samp_mean-pop_mean)/se\n",
    "print('Z statistic = ', z_score)"
   ]
  },
  {
   "cell_type": "code",
   "execution_count": 5,
   "metadata": {},
   "outputs": [
    {
     "name": "stdout",
     "output_type": "stream",
     "text": [
      "Test falls in critical region. Hence, reject Null Hypothesis\n",
      "The acceptance of alternative hypothesis may not be due to random chance\n",
      "Alternative Hypothesis: Average cost of text books is higher than Rs. 52\n"
     ]
    }
   ],
   "source": [
    "if sts.norm.ppf(0.95) < z_score:\n",
    "    print('Test falls in critical region. Hence, reject Null Hypothesis')\n",
    "    print('The acceptance of alternative hypothesis may not be due to random chance')\n",
    "    print(H1)\n",
    "else:\n",
    "    print('Test does not fall in critical region. Hence, accept Null Hypothesis')\n",
    "    print(H0)"
   ]
  },
  {
   "cell_type": "code",
   "execution_count": null,
   "metadata": {},
   "outputs": [],
   "source": []
  },
  {
   "cell_type": "markdown",
   "metadata": {},
   "source": [
    "##### Q3: A certain chemical pollutant in the Genesee River has been constant for several years with mean μ = 34 ppm (parts per million) and standard deviation σ = 8 ppm. A group of factory representatives whose companies discharge liquids into the river is now claiming that they have lowered the average with improved filtration devices. A group of environmentalists will test to see if this is true at the 1% level of significance. Assume \\ that their sample of size 50 gives a mean of 32.5 ppm. Perform a hypothesis test at the 1% level of significance and state your decision."
   ]
  },
  {
   "cell_type": "code",
   "execution_count": 6,
   "metadata": {},
   "outputs": [],
   "source": [
    "H0='Null Hypothesis: Average chemical pollutant discharged is 34 ppm'\n",
    "H1='Alternative Hypothesis: Average chemical pollutant discharged is lesser than 34 ppm'"
   ]
  },
  {
   "cell_type": "code",
   "execution_count": 7,
   "metadata": {},
   "outputs": [],
   "source": [
    "pop_mean, pop_sd, samp_mean, n = 34, 8, 32.5, 50"
   ]
  },
  {
   "cell_type": "code",
   "execution_count": 8,
   "metadata": {},
   "outputs": [
    {
     "name": "stdout",
     "output_type": "stream",
     "text": [
      "Z statistic =  -1.3258252147247767\n"
     ]
    }
   ],
   "source": [
    "se=pop_sd/np.sqrt(n)\n",
    "z_score=(samp_mean-pop_mean)/se\n",
    "print('Z statistic = ', z_score)"
   ]
  },
  {
   "cell_type": "code",
   "execution_count": 9,
   "metadata": {},
   "outputs": [
    {
     "name": "stdout",
     "output_type": "stream",
     "text": [
      "Test does not fall in critical region. Hence, accept Null Hypothesis\n",
      "Null Hypothesis: Average chemical pollutant discharged is 34 ppm\n"
     ]
    }
   ],
   "source": [
    "if sts.norm.ppf(0.01) > z_score:\n",
    "    print('Test falls in critical region. Hence, reject Null Hypothesis')\n",
    "    print('The acceptance of alternative hypothesis may not be due to random chance')\n",
    "    print(H1)\n",
    "else:\n",
    "    print('Test does not fall in critical region. Hence, accept Null Hypothesis')\n",
    "    print(H0)"
   ]
  },
  {
   "cell_type": "code",
   "execution_count": null,
   "metadata": {},
   "outputs": [],
   "source": []
  },
  {
   "cell_type": "markdown",
   "metadata": {},
   "source": [
    "##### Q4: Based on population figures and other general information on the U.S. population,suppose it has been estimated that, on average, a family of four in the U.S. spends about $1135 annually on dental expenditures. Suppose further that a regional dental association wants to test to determine if this figure is accurate for their area of country. To test this, 22 families of 4 are randomly selected from the population in that area of the country and a log is kept of the family’s dental expenditure for one year. The resulting data are given below. Assuming, that dental expenditure is normally distributed in the population, use the data and an alpha of 0.5 to test the dental association’s hypothesis.\n",
    "\n",
    "1008, 812, 1117, 1323, 1308, 1415, 831, 1021, 1287, 851, 930, 730, 699,\n",
    "872, 913, 944, 954, 987, 1695, 995, 1003, 994"
   ]
  },
  {
   "cell_type": "code",
   "execution_count": 10,
   "metadata": {},
   "outputs": [],
   "source": [
    "H0='Null Hypothesis: Average dental expenditure for a family of 4 is 1135 dollars'\n",
    "H1='Alternative Hypothesis: Average dental expenditure for a family of 4 is not equal to 1135 dollars'"
   ]
  },
  {
   "cell_type": "code",
   "execution_count": 11,
   "metadata": {},
   "outputs": [],
   "source": [
    "samp_data=[1008, 812, 1117, 1323, 1308, 1415, 831, 1021, 1287, 851, 930, 730, 699, 872, 913, 944, 954, 987, 1695, 995, 1003, 994]\n",
    "samp_mean=np.average(samp_data)\n",
    "sd=np.std(samp_data)"
   ]
  },
  {
   "cell_type": "code",
   "execution_count": 12,
   "metadata": {},
   "outputs": [],
   "source": [
    "pop_mean, n = 1135, 22"
   ]
  },
  {
   "cell_type": "code",
   "execution_count": 13,
   "metadata": {},
   "outputs": [
    {
     "name": "stdout",
     "output_type": "stream",
     "text": [
      "Z statistic =  -2.070747228595759\n"
     ]
    }
   ],
   "source": [
    "se=sd/np.sqrt(n)\n",
    "z_score=(samp_mean-pop_mean)/se\n",
    "print('Z statistic = ', z_score)"
   ]
  },
  {
   "cell_type": "code",
   "execution_count": 14,
   "metadata": {},
   "outputs": [
    {
     "name": "stdout",
     "output_type": "stream",
     "text": [
      "Test falls in critical region. Hence, reject Null Hypothesis\n",
      "The acceptance of alternative hypothesis may not be due to random chance\n",
      "Alternative Hypothesis: Average dental expenditure for a family of 4 is not equal to 1135 dollars\n"
     ]
    }
   ],
   "source": [
    "if (sts.norm.ppf(0.025) > z_score) or (sts.norm.ppf(0.975) < z_score):\n",
    "    print('Test falls in critical region. Hence, reject Null Hypothesis')\n",
    "    print('The acceptance of alternative hypothesis may not be due to random chance')\n",
    "    print(H1)\n",
    "else:\n",
    "    print('Test does not fall in critical region. Hence, accept Null Hypothesis')\n",
    "    print(H0)"
   ]
  },
  {
   "cell_type": "code",
   "execution_count": null,
   "metadata": {},
   "outputs": [],
   "source": []
  },
  {
   "cell_type": "markdown",
   "metadata": {},
   "source": [
    "##### Q5: In a report prepared by the Economic Research Department of a major bank the Department manager maintains that the average annual family income on Metropolis is $48,432. What do you conclude about the validity of the report if a random sample of 400 families shows and average income of $48,574 with a standard deviation of 2000?"
   ]
  },
  {
   "cell_type": "code",
   "execution_count": 15,
   "metadata": {},
   "outputs": [],
   "source": [
    "H0='Null Hypothesis: Average annual family income is 48432 dollars'\n",
    "H1='Alternative Hypothesis: Average annual family income is not equal to 48432 dollars'"
   ]
  },
  {
   "cell_type": "code",
   "execution_count": 16,
   "metadata": {},
   "outputs": [],
   "source": [
    "pop_mean, sd, samp_mean, n = 48432, 2000, 48574, 400"
   ]
  },
  {
   "cell_type": "code",
   "execution_count": 17,
   "metadata": {},
   "outputs": [
    {
     "name": "stdout",
     "output_type": "stream",
     "text": [
      "Z statistic =  1.42\n"
     ]
    }
   ],
   "source": [
    "se=sd/np.sqrt(n)\n",
    "z_score=(samp_mean-pop_mean)/se\n",
    "print('Z statistic = ', z_score)"
   ]
  },
  {
   "cell_type": "code",
   "execution_count": 18,
   "metadata": {},
   "outputs": [
    {
     "name": "stdout",
     "output_type": "stream",
     "text": [
      "By performing hypothesis test at 5% level of significance:\n",
      "Test does not fall in critical region. Hence, accept Null Hypothesis\n",
      "Null Hypothesis: Average annual family income is 48432 dollars\n"
     ]
    }
   ],
   "source": [
    "print('By performing hypothesis test at 5% level of significance:')\n",
    "if (sts.norm.ppf(0.025) > z_score) or (sts.norm.ppf(0.975) < z_score):\n",
    "    print('Test falls in critical region. Hence, reject Null Hypothesis')\n",
    "    print('The acceptance of alternative hypothesis may not be due to random chance')\n",
    "    print(H1)\n",
    "else:\n",
    "    print('Test does not fall in critical region. Hence, accept Null Hypothesis')\n",
    "    print(H0)"
   ]
  },
  {
   "cell_type": "code",
   "execution_count": null,
   "metadata": {},
   "outputs": [],
   "source": []
  },
  {
   "cell_type": "markdown",
   "metadata": {},
   "source": [
    "##### Q6: Suppose that in past years the average price per square foot for warehouses in the United States has been $32.28. A national real estate investor wants to determine whether that figure has changed now. The investor hires a researcher who randomly samples 19 warehouses that are for sale across the United States and finds that the mean price per square foot is $31.67, with a standard deviation of $1.29. assume that the prices of warehouse footage are normally distributed in population. If the researcher uses a 5% level of significance, what statistical conclusion can be reached? What are the hypotheses?"
   ]
  },
  {
   "cell_type": "code",
   "execution_count": 19,
   "metadata": {},
   "outputs": [],
   "source": [
    "H0='Null Hypothesis: Average price per square foot is 32.28 dollars'\n",
    "H1='Alternative Hypothesis: Average price per square foot is not equal to 32.28 dollars'"
   ]
  },
  {
   "cell_type": "code",
   "execution_count": 20,
   "metadata": {},
   "outputs": [],
   "source": [
    "pop_mean, sd, samp_mean, n = 32.28, 1.29, 31.67, 19"
   ]
  },
  {
   "cell_type": "code",
   "execution_count": 21,
   "metadata": {},
   "outputs": [
    {
     "name": "stdout",
     "output_type": "stream",
     "text": [
      "statistic =  -2.06118477175179\n"
     ]
    }
   ],
   "source": [
    "se=sd/np.sqrt(n)\n",
    "score=(samp_mean-pop_mean)/se\n",
    "print('statistic = ', score)"
   ]
  },
  {
   "cell_type": "code",
   "execution_count": 22,
   "metadata": {},
   "outputs": [
    {
     "name": "stdout",
     "output_type": "stream",
     "text": [
      "Test falls in critical region. Hence, reject Null Hypothesis\n",
      "The acceptance of alternative hypothesis may not be due to random chance\n",
      "Alternative Hypothesis: Average price per square foot is not equal to 32.28 dollars\n"
     ]
    }
   ],
   "source": [
    "if (sts.norm.ppf(0.025) > score) or (sts.norm.ppf(0.975) < score):\n",
    "    print('Test falls in critical region. Hence, reject Null Hypothesis')\n",
    "    print('The acceptance of alternative hypothesis may not be due to random chance')\n",
    "    print(H1)\n",
    "else:\n",
    "    print('Test does not fall in critical region. Hence, accept Null Hypothesis')\n",
    "    print(H0)"
   ]
  },
  {
   "cell_type": "code",
   "execution_count": null,
   "metadata": {},
   "outputs": [],
   "source": []
  },
  {
   "attachments": {
    "image.png": {
     "image/png": "[encoded data removed]"
    }
   },
   "cell_type": "markdown",
   "metadata": {},
   "source": [
    "##### Q7: Fill in the blank spaces in the table and draw your conclusions from it.\n",
    "![image.png](attachment:image.png)"
   ]
  },
  {
   "cell_type": "code",
   "execution_count": 23,
   "metadata": {},
   "outputs": [],
   "source": [
    "def calculate(low, high, n):\n",
    "    sd=2.5\n",
    "    mu = (high + low) / 2\n",
    "    samp_sd = sd / np.sqrt(n)\n",
    "    \n",
    "    alpha = comp_alpha(low, high, samp_sd, mu)\n",
    "    beta1 = comp_beta(low, high, samp_sd, 52)\n",
    "    beta2 = comp_beta(low, high, samp_sd, 50.5)\n",
    "    \n",
    "    print('Acceptance Region:', low, ' < xbar < ', high)\n",
    "    print('Sample Size = ',n)\n",
    "    print('Type I Error:')\n",
    "    print('alpha = %.4f'% alpha)\n",
    "    print('This implies that ', (round(alpha,4))*100, ' % of all random samples will be in rejection region.' )\n",
    "    print('Type II Error:')\n",
    "    print('beta when mu is 52 = %.4f'% beta1)\n",
    "    print('beta when mu is 50.5 = %.4f'% beta2)\n",
    "    print('As the true mean approaches the hypothesized value, the probability of making type II error increase rapidly')"
   ]
  },
  {
   "cell_type": "code",
   "execution_count": 24,
   "metadata": {},
   "outputs": [],
   "source": [
    "def comp_alpha(low, high, samp_sd, mu):\n",
    "    z1 = (low - mu) / samp_sd\n",
    "    z2 = (high - mu) / samp_sd\n",
    "    \n",
    "    p_z1 = sts.norm.cdf(z1)\n",
    "    p_z2 = 1-sts.norm.cdf(z2)\n",
    "    alpha = p_z1 + p_z2\n",
    "    return alpha"
   ]
  },
  {
   "cell_type": "code",
   "execution_count": 25,
   "metadata": {},
   "outputs": [],
   "source": [
    "# Computation of Beta\n",
    "def comp_beta(low, high, samp_sd, mu):\n",
    "    z1 = (low - mu) / samp_sd\n",
    "    z2 = (high - mu) / samp_sd\n",
    "\n",
    "    p_z1 = sts.norm.cdf(z1)\n",
    "    p_z2 = sts.norm.cdf(z2)\n",
    "    beta = p_z2 - p_z1\n",
    "    return beta"
   ]
  },
  {
   "cell_type": "code",
   "execution_count": 26,
   "metadata": {},
   "outputs": [
    {
     "name": "stdout",
     "output_type": "stream",
     "text": [
      "Acceptance Region: 48.5  < xbar <  51.5\n",
      "Sample Size =  10\n",
      "Type I Error:\n",
      "alpha = 0.0578\n",
      "This implies that  5.779999999999999  % of all random samples will be in rejection region.\n",
      "Type II Error:\n",
      "beta when mu is 52 = 0.2635\n",
      "beta when mu is 50.5 = 0.8913\n",
      "As the true mean approaches the hypothesized value, the probability of making type II error increase rapidly\n"
     ]
    }
   ],
   "source": [
    "# Case 1:\n",
    "# Acceptance Region: 48.5 < xbar < 51.5, sample size = 10\n",
    "\n",
    "low,high,n = 48.5, 51.5, 10\n",
    "calculate(low, high, n)"
   ]
  },
  {
   "cell_type": "code",
   "execution_count": 27,
   "metadata": {},
   "outputs": [
    {
     "name": "stdout",
     "output_type": "stream",
     "text": [
      "Acceptance Region: 48  < xbar <  52\n",
      "Sample Size =  10\n",
      "Type I Error:\n",
      "alpha = 0.0114\n",
      "This implies that  1.1400000000000001  % of all random samples will be in rejection region.\n",
      "Type II Error:\n",
      "beta when mu is 52 = 0.5000\n",
      "beta when mu is 50.5 = 0.9703\n",
      "As the true mean approaches the hypothesized value, the probability of making type II error increase rapidly\n"
     ]
    }
   ],
   "source": [
    "# Case 2:\n",
    "# Acceptance Region: 48 < xbar < 52, sample size = 10\n",
    "\n",
    "low,high,n = 48, 52, 10\n",
    "calculate(low, high, n)"
   ]
  },
  {
   "cell_type": "code",
   "execution_count": 28,
   "metadata": {},
   "outputs": [
    {
     "name": "stdout",
     "output_type": "stream",
     "text": [
      "Acceptance Region: 48.81  < xbar <  51.19\n",
      "Sample Size =  16\n",
      "Type I Error:\n",
      "alpha = 0.0569\n",
      "This implies that  5.6899999999999995  % of all random samples will be in rejection region.\n",
      "Type II Error:\n",
      "beta when mu is 52 = 0.0975\n",
      "beta when mu is 50.5 = 0.8618\n",
      "As the true mean approaches the hypothesized value, the probability of making type II error increase rapidly\n"
     ]
    }
   ],
   "source": [
    "# Case 3:\n",
    "# Acceptance Region: 48.81 < xbar < 51.9, sample size = 16\n",
    "\n",
    "low,high,n = 48.81, 51.19, 16\n",
    "calculate(low, high, n)"
   ]
  },
  {
   "cell_type": "code",
   "execution_count": 29,
   "metadata": {},
   "outputs": [
    {
     "name": "stdout",
     "output_type": "stream",
     "text": [
      "Acceptance Region: 48.42  < xbar <  51.58\n",
      "Sample Size =  16\n",
      "Type I Error:\n",
      "alpha = 0.0115\n",
      "This implies that  1.15  % of all random samples will be in rejection region.\n",
      "Type II Error:\n",
      "beta when mu is 52 = 0.2508\n",
      "beta when mu is 50.5 = 0.9576\n",
      "As the true mean approaches the hypothesized value, the probability of making type II error increase rapidly\n"
     ]
    }
   ],
   "source": [
    "# Case 4:\n",
    "# Acceptance Region: 48.42 < xbar < 51.58, sample size = 16\n",
    "\n",
    "low,high,n = 48.42, 51.58, 16\n",
    "calculate(low, high, n)"
   ]
  },
  {
   "cell_type": "code",
   "execution_count": null,
   "metadata": {},
   "outputs": [],
   "source": []
  },
  {
   "cell_type": "markdown",
   "metadata": {},
   "source": [
    "##### Q8: Find the t-score for a sample size of 16 taken from a population with mean 10 when the sample mean is 12 and the sample standard deviation is 1.5."
   ]
  },
  {
   "cell_type": "code",
   "execution_count": 30,
   "metadata": {},
   "outputs": [],
   "source": [
    "pop_mean,samp_mean,samp_sd,n = 10, 12, 1.5, 16"
   ]
  },
  {
   "cell_type": "code",
   "execution_count": 31,
   "metadata": {},
   "outputs": [
    {
     "name": "stdout",
     "output_type": "stream",
     "text": [
      "t_statistic =  5.333333333333333\n"
     ]
    }
   ],
   "source": [
    "se=samp_sd/np.sqrt(n)\n",
    "t_score=(samp_mean-pop_mean)/se\n",
    "print('t_statistic = ', t_score)"
   ]
  },
  {
   "cell_type": "code",
   "execution_count": 32,
   "metadata": {},
   "outputs": [
    {
     "name": "stdout",
     "output_type": "stream",
     "text": [
      "t-Score =  2.131449545559323\n"
     ]
    }
   ],
   "source": [
    "print('t-Score = ', sts.t.ppf(1-0.025,15))"
   ]
  },
  {
   "cell_type": "code",
   "execution_count": null,
   "metadata": {},
   "outputs": [],
   "source": []
  },
  {
   "cell_type": "markdown",
   "metadata": {},
   "source": [
    "##### Q9: Find the t-score below which we can expect 99% of sample means will fall if samples of size 16 are taken from a normally distributed population."
   ]
  },
  {
   "cell_type": "code",
   "execution_count": 33,
   "metadata": {},
   "outputs": [
    {
     "name": "stdout",
     "output_type": "stream",
     "text": [
      "t_score below which 99% of sample means will fall if samples of size 16 are taken from a normally distributed population is:\n"
     ]
    },
    {
     "data": {
      "text/plain": [
       "2.602480294995493"
      ]
     },
     "execution_count": 33,
     "metadata": {},
     "output_type": "execute_result"
    }
   ],
   "source": [
    "print('t_score below which 99% of sample means will fall if samples of size 16 are taken from a normally distributed population is:')\n",
    "sts.t.ppf(1-0.01,15)"
   ]
  },
  {
   "cell_type": "code",
   "execution_count": null,
   "metadata": {},
   "outputs": [],
   "source": []
  },
  {
   "cell_type": "markdown",
   "metadata": {},
   "source": [
    "##### Q10: If a random sample of size 25 drawn from a normal population gives a mean of 60 and a standard deviation of 4, find the range of t-scores where we can expect to find the middle 95% of all sample means. "
   ]
  },
  {
   "cell_type": "code",
   "execution_count": 34,
   "metadata": {},
   "outputs": [],
   "source": [
    "n=25"
   ]
  },
  {
   "cell_type": "code",
   "execution_count": 35,
   "metadata": {},
   "outputs": [
    {
     "name": "stdout",
     "output_type": "stream",
     "text": [
      "Range of t_scores to find the middle 95% of sample means for random sample of size 25 is:\n",
      "-2.063898561628021  to  2.0638985616280205\n"
     ]
    }
   ],
   "source": [
    "print('Range of t_scores to find the middle 95% of sample means for random sample of size 25 is:')\n",
    "print(sts.t.ppf(0.025,n-1), ' to ', sts.t.ppf(1-0.025,n-1))"
   ]
  },
  {
   "cell_type": "code",
   "execution_count": null,
   "metadata": {},
   "outputs": [],
   "source": []
  },
  {
   "cell_type": "markdown",
   "metadata": {},
   "source": [
    "##### Q11: Two-tailed test for difference between two population means Is there evidence to conclude that the number of people travelling from Bangalore to Chennai is different from the number of people travelling from Bangalore to Hosur in a week, given the following:\n",
    "Population 1: Bangalore to Chennai n1 = 1200\n",
    "x1 = 452\n",
    "s1 = 212\n",
    "Population 2: Bangalore to Hosur n2 = 800\n",
    "x2 = 523\n",
    "s2 = 185"
   ]
  },
  {
   "cell_type": "code",
   "execution_count": 36,
   "metadata": {},
   "outputs": [],
   "source": [
    "H0='There is no difference between the number of people travelling from Bangalore to Chennai and from Bangalore to Hosur.'\n",
    "H1='There is a difference between the number of people travelling from Bangalore to Chennai and from Bangalore to Hosur.'"
   ]
  },
  {
   "cell_type": "code",
   "execution_count": 37,
   "metadata": {},
   "outputs": [],
   "source": [
    "# population 1 : Bangalore to Chennai\n",
    "n1,mean1,sd1 = 1200, 452, 212\n",
    "\n",
    "# Population 2: Bangalore to Hosur\n",
    "n2,mean2,sd2 = 800, 523, 185"
   ]
  },
  {
   "cell_type": "code",
   "execution_count": 38,
   "metadata": {},
   "outputs": [
    {
     "name": "stdout",
     "output_type": "stream",
     "text": [
      "-7.926428526759299\n"
     ]
    }
   ],
   "source": [
    "z_score=(mean1-mean2) / (np.sqrt((sd1*sd1/n1)+(sd2*sd2/n2)))\n",
    "print(z_score)"
   ]
  },
  {
   "cell_type": "code",
   "execution_count": 39,
   "metadata": {},
   "outputs": [
    {
     "name": "stdout",
     "output_type": "stream",
     "text": [
      "By performing hypothesis test at 5% level of significance:\n",
      "Test falls in critical region. Hence, reject Null Hypothesis\n",
      "The acceptance of alternative hypothesis may not be due to random chance\n",
      "There is a difference between the number of people travelling from Bangalore to Chennai and from Bangalore to Hosur.\n"
     ]
    }
   ],
   "source": [
    "print('By performing hypothesis test at 5% level of significance:')\n",
    "if (sts.norm.ppf(0.025) > z_score) or (sts.norm.ppf(0.975) < z_score):\n",
    "    print('Test falls in critical region. Hence, reject Null Hypothesis')\n",
    "    print('The acceptance of alternative hypothesis may not be due to random chance')\n",
    "    print(H1)\n",
    "else:\n",
    "    print('Test does not fall in critical region. Hence, accept Null Hypothesis')\n",
    "    print(H0)"
   ]
  },
  {
   "cell_type": "code",
   "execution_count": null,
   "metadata": {},
   "outputs": [],
   "source": []
  },
  {
   "cell_type": "markdown",
   "metadata": {},
   "source": [
    "##### Q12: Is there evidence to conclude that the number of people preferring Duracell battery is different from the number of people preferring Energizer battery, given the following:\n",
    "Population 1: Duracell\n",
    "n1 = 100\n",
    "x1 = 308\n",
    "s1 = 84\n",
    "Population 2: Energizer\n",
    "n2 = 100\n",
    "x2 = 254\n",
    "s2 = 67"
   ]
  },
  {
   "cell_type": "code",
   "execution_count": 40,
   "metadata": {},
   "outputs": [],
   "source": [
    "H0='There is no difference between the number of people preferring Duracell battery and Energizer battery.'\n",
    "H1='There is a difference between the number of people preferring Duracell battery and Energizer battery.'"
   ]
  },
  {
   "cell_type": "code",
   "execution_count": 41,
   "metadata": {},
   "outputs": [],
   "source": [
    "# population 1 : Bangalore to Chennai\n",
    "n1,mean1,sd1 = 100, 308, 84\n",
    "\n",
    "# Population 2: Bangalore to Hosur\n",
    "n2,mean2,sd2 = 100, 254, 67"
   ]
  },
  {
   "cell_type": "code",
   "execution_count": 42,
   "metadata": {},
   "outputs": [
    {
     "name": "stdout",
     "output_type": "stream",
     "text": [
      "5.025702668336442\n"
     ]
    }
   ],
   "source": [
    "z_score=(mean1-mean2) / (np.sqrt((sd1*sd1/n1)+(sd2*sd2/n2)))\n",
    "print(z_score)"
   ]
  },
  {
   "cell_type": "code",
   "execution_count": 43,
   "metadata": {},
   "outputs": [
    {
     "name": "stdout",
     "output_type": "stream",
     "text": [
      "By performing hypothesis test at 5% level of significance:\n",
      "Test falls in critical region. Hence, reject Null Hypothesis\n",
      "The acceptance of alternative hypothesis may not be due to random chance\n",
      "There is a difference between the number of people preferring Duracell battery and Energizer battery.\n"
     ]
    }
   ],
   "source": [
    "print('By performing hypothesis test at 5% level of significance:')\n",
    "if (sts.norm.ppf(0.025) > z_score) or (sts.norm.ppf(0.975) < z_score):\n",
    "    print('Test falls in critical region. Hence, reject Null Hypothesis')\n",
    "    print('The acceptance of alternative hypothesis may not be due to random chance')\n",
    "    print(H1)\n",
    "else:\n",
    "    print('Test does not fall in critical region. Hence, accept Null Hypothesis')\n",
    "    print(H0)"
   ]
  },
  {
   "cell_type": "code",
   "execution_count": null,
   "metadata": {},
   "outputs": [],
   "source": []
  },
  {
   "cell_type": "markdown",
   "metadata": {},
   "source": [
    "##### Q13: Pooled estimate of the population variance: Does the data provide sufficient evidence to conclude that average percentage increase in the price of sugar differs when it is sold at two different prices?\n",
    "Population 1: Price of sugar = Rs. 27.50 n1 = 14\n",
    "x1 = 0.317%\n",
    "s1 = 0.12%\n",
    "Population 2: Price of sugar = Rs. 20.00 n2 = 9\n",
    "x2 = 0.21%\n",
    "s2 = 0.11%"
   ]
  },
  {
   "cell_type": "code",
   "execution_count": 44,
   "metadata": {},
   "outputs": [],
   "source": [
    "H0='There is no difference in the average percentage increase in the price of sugar when it solds at two different prices.'\n",
    "H1='There is a difference in the average percentage increase in the price of sugar when it solds at two different prices.'"
   ]
  },
  {
   "cell_type": "code",
   "execution_count": 45,
   "metadata": {},
   "outputs": [],
   "source": [
    "# population 1 : \n",
    "n1,mean1,sd1 = 14, 0.317, 0.12\n",
    "\n",
    "# Population 2: \n",
    "n2,mean2,sd2 = 9, 0.21, 0.11"
   ]
  },
  {
   "cell_type": "code",
   "execution_count": 46,
   "metadata": {},
   "outputs": [
    {
     "name": "stdout",
     "output_type": "stream",
     "text": [
      "2.1965113720074068\n"
     ]
    }
   ],
   "source": [
    "t_score=(mean1-mean2) / (np.sqrt((sd1*sd1/n1)+(sd2*sd2/n2)))\n",
    "print(t_score)"
   ]
  },
  {
   "cell_type": "code",
   "execution_count": 47,
   "metadata": {},
   "outputs": [
    {
     "name": "stdout",
     "output_type": "stream",
     "text": [
      "By performing hypothesis test at 5% level of significance:\n",
      "Test falls in critical region. Hence, reject Null Hypothesis\n",
      "The acceptance of alternative hypothesis may not be due to random chance\n",
      "There is a difference in the average percentage increase in the price of sugar when it solds at two different prices.\n"
     ]
    }
   ],
   "source": [
    "print('By performing hypothesis test at 5% level of significance:')\n",
    "if (sts.t.ppf(0.025,n1+n2-2) > t_score) or (sts.t.ppf(1-0.025,n1+n2-2) < t_score):\n",
    "    print('Test falls in critical region. Hence, reject Null Hypothesis')\n",
    "    print('The acceptance of alternative hypothesis may not be due to random chance')\n",
    "    print(H1)\n",
    "else:\n",
    "    print('Test does not fall in critical region. Hence, accept Null Hypothesis')\n",
    "    print(H0)"
   ]
  },
  {
   "cell_type": "code",
   "execution_count": null,
   "metadata": {},
   "outputs": [],
   "source": []
  },
  {
   "cell_type": "markdown",
   "metadata": {},
   "source": [
    "##### Q14: The manufacturers of compact disk players want to test whether a small price reduction is enough to increase sales of their product. Is there evidence that the small price reduction is enough to increase sales of compact disk players?\n",
    "Population 1: Before reduction\n",
    "n1 = 15\n",
    "x1 = Rs. 6598 s1 = Rs. 844\n",
    "Population 2: After reduction n2 = 12\n",
    "x2 = RS. 6870\n",
    "s2 = Rs. 669"
   ]
  },
  {
   "cell_type": "code",
   "execution_count": 48,
   "metadata": {},
   "outputs": [],
   "source": [
    "H0='There is no difference in the sales of CD players after small price reduction.'\n",
    "H1='There is an increase in sales of CD players after small price reduction.'"
   ]
  },
  {
   "cell_type": "code",
   "execution_count": 49,
   "metadata": {},
   "outputs": [],
   "source": [
    "# population 1 : \n",
    "n1,mean1,sd1 = 15, 6598, 844\n",
    "\n",
    "# Population 2: \n",
    "n2,mean2,sd2 = 12, 6870, 669"
   ]
  },
  {
   "cell_type": "code",
   "execution_count": 50,
   "metadata": {},
   "outputs": [
    {
     "name": "stdout",
     "output_type": "stream",
     "text": [
      "0.9341299576730813\n"
     ]
    }
   ],
   "source": [
    "t_score=(mean2-mean1) / (np.sqrt((sd1*sd1/n1)+(sd2*sd2/n2)))\n",
    "print(t_score)"
   ]
  },
  {
   "cell_type": "code",
   "execution_count": 51,
   "metadata": {},
   "outputs": [
    {
     "name": "stdout",
     "output_type": "stream",
     "text": [
      "By performing hypothesis test at 5% level of significance:\n",
      "Test does not fall in critical region. Hence, accept Null Hypothesis\n",
      "There is no difference in the sales of CD players after small price reduction.\n"
     ]
    }
   ],
   "source": [
    "print('By performing hypothesis test at 5% level of significance:')\n",
    "if sts.t.ppf(1-0.025,n1+n2-2) < t_score:\n",
    "    print('Test falls in critical region. Hence, reject Null Hypothesis')\n",
    "    print('The acceptance of alternative hypothesis may not be due to random chance')\n",
    "    print(H1)\n",
    "else:\n",
    "    print('Test does not fall in critical region. Hence, accept Null Hypothesis')\n",
    "    print(H0)"
   ]
  },
  {
   "cell_type": "code",
   "execution_count": null,
   "metadata": {},
   "outputs": [],
   "source": []
  },
  {
   "cell_type": "markdown",
   "metadata": {},
   "source": [
    "##### Q15: Comparisons of two population proportions when the hypothesized difference is zero Carry out a two-tailed test of the equality of banks’ share of the car loan market in 1980 and 1995.\n",
    "Population 1: 1980\n",
    "n1 = 100\n",
    "x1 = 53\n",
    "𝑝 1 = 0.53\n",
    "Population 2: 1985\n",
    "n2 = 100\n",
    "x2 = 43\n",
    "𝑝 2= 0.43"
   ]
  },
  {
   "cell_type": "code",
   "execution_count": 52,
   "metadata": {},
   "outputs": [],
   "source": [
    "H0 = 'There is no difference in the banks share of the car loan market in 1980 and 1995.'\n",
    "H1 = 'There is a difference in the banks share of the car loan market in 1980 and 1995.'"
   ]
  },
  {
   "cell_type": "code",
   "execution_count": 53,
   "metadata": {},
   "outputs": [],
   "source": [
    "# Population 1: 1980\n",
    "n1, x1, p1 = 100, 53, 0.53\n",
    "\n",
    "# Population 2: 1985\n",
    "n2, x2, p2 = 100, 43, 0.43"
   ]
  },
  {
   "cell_type": "code",
   "execution_count": 54,
   "metadata": {},
   "outputs": [],
   "source": [
    "p = (x1 + x2) / (n1 + n2)"
   ]
  },
  {
   "cell_type": "code",
   "execution_count": 55,
   "metadata": {},
   "outputs": [
    {
     "name": "stdout",
     "output_type": "stream",
     "text": [
      "1.4153462926807452\n"
     ]
    }
   ],
   "source": [
    "z_score = (p1 - p2) / (np.sqrt(p * (1 - p) * ((1 / n1) + (1 / n2))))\n",
    "print(z_score)"
   ]
  },
  {
   "cell_type": "code",
   "execution_count": 56,
   "metadata": {},
   "outputs": [
    {
     "name": "stdout",
     "output_type": "stream",
     "text": [
      "By performing hypothesis test at 5% level of significance:\n",
      "Test does not fall in critical region. Hence, accept Null Hypothesis\n",
      "There is no difference in the banks share of the car loan market in 1980 and 1995.\n"
     ]
    }
   ],
   "source": [
    "print('By performing hypothesis test at 5% level of significance:')\n",
    "if (sts.norm.ppf(0.025) > z_score) or (sts.norm.ppf(0.975) < z_score):\n",
    "    print('Test falls in critical region. Hence, reject Null Hypothesis')\n",
    "    print('The acceptance of alternative hypothesis may not be due to random chance')\n",
    "    print(H1)\n",
    "else:\n",
    "    print('Test does not fall in critical region. Hence, accept Null Hypothesis')\n",
    "    print(H0)"
   ]
  },
  {
   "cell_type": "code",
   "execution_count": null,
   "metadata": {},
   "outputs": [],
   "source": []
  },
  {
   "cell_type": "markdown",
   "metadata": {},
   "source": [
    "##### Q16: Carry out a one-tailed test to determine whether the population proportion of traveler’s check buyers who buy at least $2500 in checks when sweepstakes prizes are offered as at least 10% higher than the proportion of such buyers when no sweepstakes are on.\n",
    "Population 1: With sweepstakes\n",
    "n1 = 300\n",
    "x1 = 120\n",
    "𝑝 = 0.40\n",
    "Population 2: No sweepstakes n2 = 700\n",
    "x2 = 140\n",
    "𝑝 2= 0.20"
   ]
  },
  {
   "cell_type": "code",
   "execution_count": 57,
   "metadata": {},
   "outputs": [],
   "source": [
    "H0 = 'The difference in proportion of buyers with and without sweepstakes is less than or equal to 10%.'\n",
    "H1 = 'The difference in proportion of buyers with and without sweepstakes is greater than 10%.'"
   ]
  },
  {
   "cell_type": "code",
   "execution_count": 58,
   "metadata": {},
   "outputs": [],
   "source": [
    "# Population 1: With sweepstakes\n",
    "n1, x1, p1 = 300, 120, 0.40\n",
    "\n",
    "# Population 2: No sweepstakes\n",
    "n2, x2, p2 = 700, 140, 0.20"
   ]
  },
  {
   "cell_type": "code",
   "execution_count": 59,
   "metadata": {},
   "outputs": [],
   "source": [
    "p = (x1 + x2) / (n1 + n2)"
   ]
  },
  {
   "cell_type": "code",
   "execution_count": 60,
   "metadata": {},
   "outputs": [
    {
     "name": "stdout",
     "output_type": "stream",
     "text": [
      "3.1180478223116177\n"
     ]
    }
   ],
   "source": [
    "z_score = ((p1 - p2) - 0.10) / (np.sqrt(((p1 * (1 - p1)) / n1) + ((p2 * (1 - p2)) / n2)))\n",
    "print(z_score)"
   ]
  },
  {
   "cell_type": "code",
   "execution_count": 61,
   "metadata": {},
   "outputs": [
    {
     "name": "stdout",
     "output_type": "stream",
     "text": [
      "By performing hypothesis test at 5% level of significance:\n",
      "Test falls in critical region. Hence, reject Null Hypothesis\n",
      "The acceptance of alternative hypothesis may not be due to random chance\n",
      "The difference in proportion of buyers with and without sweepstakes is greater than 10%.\n"
     ]
    }
   ],
   "source": [
    "print('By performing hypothesis test at 5% level of significance:')\n",
    "if sts.norm.ppf(0.975) < z_score:\n",
    "    print('Test falls in critical region. Hence, reject Null Hypothesis')\n",
    "    print('The acceptance of alternative hypothesis may not be due to random chance')\n",
    "    print(H1)\n",
    "else:\n",
    "    print('Test does not fall in critical region. Hence, accept Null Hypothesis')\n",
    "    print(H0)"
   ]
  },
  {
   "cell_type": "code",
   "execution_count": null,
   "metadata": {},
   "outputs": [],
   "source": []
  },
  {
   "cell_type": "markdown",
   "metadata": {},
   "source": [
    "##### Q17: A die is thrown 132 times with the following results: Number turned up: 1, 2, 3, 4, 5, 6 Frequency: 16, 20, 25, 14, 29, 28 Is the die unbiased? Consider the degrees of freedom as 𝑝 − ."
   ]
  },
  {
   "cell_type": "code",
   "execution_count": 62,
   "metadata": {},
   "outputs": [],
   "source": [
    "H0 = 'The die is unbiased.'\n",
    "H1 = 'The die is not unbiased.'"
   ]
  },
  {
   "cell_type": "code",
   "execution_count": 63,
   "metadata": {},
   "outputs": [],
   "source": [
    "# Observed and Expected Frequency\n",
    "\n",
    "f_obs = [16, 20, 25, 14, 29, 28]\n",
    "f_exp = [sum(f_obs)/len(f_obs)] * len(f_obs)"
   ]
  },
  {
   "cell_type": "code",
   "execution_count": 64,
   "metadata": {},
   "outputs": [
    {
     "name": "stdout",
     "output_type": "stream",
     "text": [
      "Calculated Chi Square value =  9.0\n",
      " Table Chi Square value at 5% SL=  11.070497693516351\n"
     ]
    }
   ],
   "source": [
    "chi_calc = sts.chisquare(f_obs, f_exp)\n",
    "print('Calculated Chi Square value = ', chi_calc[0])\n",
    "chi_table = sts.chi2.ppf(q=0.95,df=len(f_obs)-1)\n",
    "print(' Table Chi Square value at 5% SL= ', chi_table)"
   ]
  },
  {
   "cell_type": "code",
   "execution_count": 65,
   "metadata": {},
   "outputs": [
    {
     "name": "stdout",
     "output_type": "stream",
     "text": [
      "By performing hypothesis test at 5% level of significance:\n",
      "Test does not fall in critical region. Hence, accept Null Hypothesis\n",
      "The die is unbiased.\n"
     ]
    }
   ],
   "source": [
    "print('By performing hypothesis test at 5% level of significance:')\n",
    "if chi_table < chi_calc[0]:\n",
    "    print('Test falls in critical region. Hence, reject Null Hypothesis')\n",
    "    print('The acceptance of alternative hypothesis may not be due to random chance')\n",
    "    print(H1)\n",
    "else:\n",
    "    print('Test does not fall in critical region. Hence, accept Null Hypothesis')\n",
    "    print(H0)"
   ]
  },
  {
   "cell_type": "code",
   "execution_count": null,
   "metadata": {},
   "outputs": [],
   "source": []
  },
  {
   "attachments": {
    "image.png": {
     "image/png": "[encoded data removed]"
    }
   },
   "cell_type": "markdown",
   "metadata": {},
   "source": [
    "##### Q18: In a certain town, there are about one million eligible voters. A simple random sample of 10,000 eligible voters was chosen to study the relationship between gender and participation in the last election. The results are summarized in the following 2X2 (read two by two) contingency table: \n",
    "![image.png](attachment:image.png)\n",
    "##### We would want to check whether being a man or a woman (columns) is independent of having voted in the last election (rows). In other  words, is “gender and voting independent”?"
   ]
  },
  {
   "cell_type": "code",
   "execution_count": 66,
   "metadata": {},
   "outputs": [],
   "source": [
    "H0 = 'Gender and voting are independent.'\n",
    "H1 = 'Gender and voting are dependent.'"
   ]
  },
  {
   "cell_type": "code",
   "execution_count": 67,
   "metadata": {},
   "outputs": [
    {
     "name": "stdout",
     "output_type": "stream",
     "text": [
      "            Men  Women\n",
      "Voted      2792   3591\n",
      "Not Voted  1486   2131\n"
     ]
    }
   ],
   "source": [
    "data = [(2792, 3591), (1486, 2131)]\n",
    "vote = pd.DataFrame(data, columns=['Men', 'Women'], index=['Voted', 'Not Voted'])\n",
    "print(vote)"
   ]
  },
  {
   "cell_type": "code",
   "execution_count": 68,
   "metadata": {},
   "outputs": [
    {
     "name": "stdout",
     "output_type": "stream",
     "text": [
      "Expected Frequency:\n",
      " [[2730.6474 3652.3526]\n",
      " [1547.3526 2069.6474]]\n",
      "Calculated Chi Square value =  6.552337973968181\n",
      " Table Chi Square value at 5% SL=  3.841458820694124\n"
     ]
    }
   ],
   "source": [
    "chi_calc = sts.chi2_contingency(vote)\n",
    "print('Expected Frequency:\\n', chi_calc[3])\n",
    "print('Calculated Chi Square value = ', chi_calc[0])\n",
    "chi_table = sts.chi2.ppf(q=0.95,df=chi_calc[2])\n",
    "print(' Table Chi Square value at 5% SL= ', chi_table)"
   ]
  },
  {
   "cell_type": "code",
   "execution_count": 69,
   "metadata": {},
   "outputs": [
    {
     "name": "stdout",
     "output_type": "stream",
     "text": [
      "By performing hypothesis test at 5% level of significance:\n",
      "Test falls in critical region. Hence, reject Null Hypothesis\n",
      "The acceptance of alternative hypothesis may not be due to random chance\n",
      "Gender and voting are dependent.\n"
     ]
    }
   ],
   "source": [
    "print('By performing hypothesis test at 5% level of significance:')\n",
    "if chi_table < chi_calc[0]:\n",
    "    print('Test falls in critical region. Hence, reject Null Hypothesis')\n",
    "    print('The acceptance of alternative hypothesis may not be due to random chance')\n",
    "    print(H1)\n",
    "else:\n",
    "    print('Test does not fall in critical region. Hence, accept Null Hypothesis')\n",
    "    print(H0)"
   ]
  },
  {
   "cell_type": "code",
   "execution_count": null,
   "metadata": {},
   "outputs": [],
   "source": []
  },
  {
   "attachments": {
    "image.png": {
     "image/png": "[encoded data removed]"
    }
   },
   "cell_type": "markdown",
   "metadata": {},
   "source": [
    "##### Q19: A sample of 100 voters are asked which of four candidates they would vote for in an election. The number supporting each candidate is given below: \n",
    "![image.png](attachment:image.png)\n",
    "##### Do the data suggest that all candidates are equally popular? [Chi-Square = 14.96, with 3 df, 𝑝 0.05 ."
   ]
  },
  {
   "cell_type": "code",
   "execution_count": 70,
   "metadata": {},
   "outputs": [],
   "source": [
    "H0 = 'All candidates are equally popular.'\n",
    "H1 = 'All candidates are not equally popular.'"
   ]
  },
  {
   "cell_type": "code",
   "execution_count": 71,
   "metadata": {},
   "outputs": [],
   "source": [
    "# Observed and Expected Frequency\n",
    "\n",
    "f_obs = [41, 19, 24, 16]\n",
    "f_exp = [sum(f_obs)/len(f_obs)] * len(f_obs)"
   ]
  },
  {
   "cell_type": "code",
   "execution_count": 72,
   "metadata": {},
   "outputs": [
    {
     "name": "stdout",
     "output_type": "stream",
     "text": [
      "Calculated Chi Square value =  14.959999999999999\n",
      " Table Chi Square value at 5% SL=  7.814727903251179\n"
     ]
    }
   ],
   "source": [
    "chi_calc = sts.chisquare(f_obs, f_exp)\n",
    "print('Calculated Chi Square value = ', chi_calc[0])\n",
    "chi_table = sts.chi2.ppf(q=0.95,df=len(f_obs)-1)\n",
    "print(' Table Chi Square value at 5% SL= ', chi_table)"
   ]
  },
  {
   "cell_type": "code",
   "execution_count": 73,
   "metadata": {},
   "outputs": [
    {
     "name": "stdout",
     "output_type": "stream",
     "text": [
      "By performing hypothesis test at 5% level of significance:\n",
      "Test falls in critical region. Hence, reject Null Hypothesis\n",
      "The acceptance of alternative hypothesis may not be due to random chance\n",
      "All candidates are not equally popular.\n"
     ]
    }
   ],
   "source": [
    "print('By performing hypothesis test at 5% level of significance:')\n",
    "if chi_table < chi_calc[0]:\n",
    "    print('Test falls in critical region. Hence, reject Null Hypothesis')\n",
    "    print('The acceptance of alternative hypothesis may not be due to random chance')\n",
    "    print(H1)\n",
    "else:\n",
    "    print('Test does not fall in critical region. Hence, accept Null Hypothesis')\n",
    "    print(H0)"
   ]
  },
  {
   "cell_type": "code",
   "execution_count": null,
   "metadata": {},
   "outputs": [],
   "source": []
  },
  {
   "attachments": {
    "image.png": {
     "image/png": "[encoded data removed]"
    }
   },
   "cell_type": "markdown",
   "metadata": {},
   "source": [
    "##### Q20: Children of three ages are asked to indicate their preference for three photographs of adults. Do the data suggest that there is a significant relationship between age and photograph preference? What is wrong with this study? [Chi-Square = 29.6, with 4 df: 𝑝 < 0.05].\n",
    "![image.png](attachment:image.png)"
   ]
  },
  {
   "cell_type": "code",
   "execution_count": 74,
   "metadata": {},
   "outputs": [],
   "source": [
    "H0 = 'There is no significant relationship between age and photograph preference.'\n",
    "H1 = 'There is a significant relationship between age and photograph preference.'"
   ]
  },
  {
   "cell_type": "code",
   "execution_count": 75,
   "metadata": {},
   "outputs": [
    {
     "name": "stdout",
     "output_type": "stream",
     "text": [
      "          A   B   C\n",
      "5_to_6   18  22  20\n",
      "7_to_8    2  28  40\n",
      "9_to_10  20  10  40\n"
     ]
    }
   ],
   "source": [
    "data = [(18, 22, 20), (2, 28, 40), (20, 10, 40)]\n",
    "photo = pd.DataFrame(data, columns=['A', 'B', 'C'], index=['5_to_6', '7_to_8', '9_to_10'])\n",
    "print(photo)"
   ]
  },
  {
   "cell_type": "code",
   "execution_count": 76,
   "metadata": {},
   "outputs": [
    {
     "name": "stdout",
     "output_type": "stream",
     "text": [
      "Expected Frequency:\n",
      " [[12. 18. 30.]\n",
      " [14. 21. 35.]\n",
      " [14. 21. 35.]]\n",
      "Calculated Chi Square value =  29.603174603174608\n",
      " Table Chi Square value at 5% SL=  9.487729036781154\n"
     ]
    }
   ],
   "source": [
    "chi_calc = sts.chi2_contingency(photo)\n",
    "print('Expected Frequency:\\n', chi_calc[3])\n",
    "print('Calculated Chi Square value = ', chi_calc[0])\n",
    "chi_table = sts.chi2.ppf(q=0.95,df=chi_calc[2])\n",
    "print(' Table Chi Square value at 5% SL= ', chi_table)"
   ]
  },
  {
   "cell_type": "code",
   "execution_count": 77,
   "metadata": {},
   "outputs": [
    {
     "name": "stdout",
     "output_type": "stream",
     "text": [
      "By performing hypothesis test at 5% level of significance:\n",
      "Test falls in critical region. Hence, reject Null Hypothesis\n",
      "The acceptance of alternative hypothesis may not be due to random chance\n",
      "There is a significant relationship between age and photograph preference.\n"
     ]
    }
   ],
   "source": [
    "print('By performing hypothesis test at 5% level of significance:')\n",
    "if chi_table < chi_calc[0]:\n",
    "    print('Test falls in critical region. Hence, reject Null Hypothesis')\n",
    "    print('The acceptance of alternative hypothesis may not be due to random chance')\n",
    "    print(H1)\n",
    "else:\n",
    "    print('Test does not fall in critical region. Hence, accept Null Hypothesis')\n",
    "    print(H0)"
   ]
  },
  {
   "cell_type": "code",
   "execution_count": null,
   "metadata": {},
   "outputs": [],
   "source": []
  },
  {
   "attachments": {
    "image.png": {
     "image/png": "[encoded data removed]"
    }
   },
   "cell_type": "markdown",
   "metadata": {},
   "source": [
    "##### Q21: A study of conformity using the Asch paradigm involved two conditions: one where one confederate supported the true judgement and another where no confederate gave the correct response. \n",
    "![image.png](attachment:image.png)\n",
    "##### Is there a significant difference between the \"support\" and \"no support\" conditions in the frequency with which individuals are likely to conform? [Chi-Square = 19.87, with 1 df: 𝑝 < 0.05]."
   ]
  },
  {
   "cell_type": "code",
   "execution_count": 78,
   "metadata": {},
   "outputs": [],
   "source": [
    "H0 = 'There is no significant difference between \"support\" and \"no support\" conditions.'\n",
    "H1 = 'There is a significant difference between \"support\" and \"no support\" conditions.'"
   ]
  },
  {
   "cell_type": "code",
   "execution_count": 79,
   "metadata": {},
   "outputs": [
    {
     "name": "stdout",
     "output_type": "stream",
     "text": [
      "             Support  No Support\n",
      "Conform           18          40\n",
      "Not Conform       32          10\n"
     ]
    }
   ],
   "source": [
    "data = [(18, 40), (32, 10)]\n",
    "judge = pd.DataFrame(data, columns=['Support', 'No Support'], index=['Conform', 'Not Conform'])\n",
    "print(judge)"
   ]
  },
  {
   "cell_type": "code",
   "execution_count": 80,
   "metadata": {},
   "outputs": [
    {
     "name": "stdout",
     "output_type": "stream",
     "text": [
      "Expected Frequency:\n",
      " [[29. 29.]\n",
      " [21. 21.]]\n",
      "Calculated Chi Square value =  18.10344827586207\n",
      " Table Chi Square value at 5% SL=  3.841458820694124\n"
     ]
    }
   ],
   "source": [
    "chi_calc = sts.chi2_contingency(judge)\n",
    "print('Expected Frequency:\\n', chi_calc[3])\n",
    "print('Calculated Chi Square value = ', chi_calc[0])\n",
    "chi_table = sts.chi2.ppf(q=0.95,df=chi_calc[2])\n",
    "print(' Table Chi Square value at 5% SL= ', chi_table)"
   ]
  },
  {
   "cell_type": "code",
   "execution_count": 81,
   "metadata": {},
   "outputs": [
    {
     "name": "stdout",
     "output_type": "stream",
     "text": [
      "By performing hypothesis test at 5% level of significance:\n",
      "Test falls in critical region. Hence, reject Null Hypothesis\n",
      "The acceptance of alternative hypothesis may not be due to random chance\n",
      "There is a significant difference between \"support\" and \"no support\" conditions.\n"
     ]
    }
   ],
   "source": [
    "print('By performing hypothesis test at 5% level of significance:')\n",
    "if chi_table < chi_calc[0]:\n",
    "    print('Test falls in critical region. Hence, reject Null Hypothesis')\n",
    "    print('The acceptance of alternative hypothesis may not be due to random chance')\n",
    "    print(H1)\n",
    "else:\n",
    "    print('Test does not fall in critical region. Hence, accept Null Hypothesis')\n",
    "    print(H0)"
   ]
  },
  {
   "cell_type": "code",
   "execution_count": null,
   "metadata": {},
   "outputs": [],
   "source": []
  },
  {
   "attachments": {
    "image.png": {
     "image/png": "[encoded data removed]"
    }
   },
   "cell_type": "markdown",
   "metadata": {},
   "source": [
    "##### Q22: We want to test whether short people differ with respect to their leadership qualities (Genghis Khan, Adolf Hitler and Napoleon were all stature-deprived, and how many midget MP's are there?) The following table shows the frequencies with which 43 short people and 52 tall people were categorized as \"leaders\", \"followers\" or as \"unclassifiable\". Is there a relationship between height and leadership qualities? [Chi-Square = 10.71, with 2 df: 𝑝 < 0.01].\n",
    "![image.png](attachment:image.png)"
   ]
  },
  {
   "cell_type": "code",
   "execution_count": 82,
   "metadata": {},
   "outputs": [],
   "source": [
    "H0 = 'There is no relationship between height and leadership qualities.'\n",
    "H1 = 'There is a relationship between height and leadership qualities.'"
   ]
  },
  {
   "cell_type": "code",
   "execution_count": 83,
   "metadata": {},
   "outputs": [
    {
     "name": "stdout",
     "output_type": "stream",
     "text": [
      "                Short  Tall\n",
      "Leader             12    32\n",
      "Follower           22    14\n",
      "Unclassifiable      9     6\n"
     ]
    }
   ],
   "source": [
    "data = [(12, 32), (22, 14), (9, 6)]\n",
    "leader = pd.DataFrame(data, columns=['Short', 'Tall'], index=['Leader', 'Follower', 'Unclassifiable'])\n",
    "print(leader)"
   ]
  },
  {
   "cell_type": "code",
   "execution_count": 84,
   "metadata": {},
   "outputs": [
    {
     "name": "stdout",
     "output_type": "stream",
     "text": [
      "Expected Frequency:\n",
      " [[19.91578947 24.08421053]\n",
      " [16.29473684 19.70526316]\n",
      " [ 6.78947368  8.21052632]]\n",
      "Calculated Chi Square value =  10.712198008709638\n",
      " Table Chi Square value at 1% SL=  9.21034037197618\n"
     ]
    }
   ],
   "source": [
    "chi_calc = sts.chi2_contingency(leader)\n",
    "print('Expected Frequency:\\n', chi_calc[3])\n",
    "print('Calculated Chi Square value = ', chi_calc[0])\n",
    "chi_table = sts.chi2.ppf(q=0.99,df=chi_calc[2])\n",
    "print(' Table Chi Square value at 1% SL= ', chi_table)"
   ]
  },
  {
   "cell_type": "code",
   "execution_count": 85,
   "metadata": {},
   "outputs": [
    {
     "name": "stdout",
     "output_type": "stream",
     "text": [
      "By performing hypothesis test at 1% level of significance:\n",
      "Test falls in critical region. Hence, reject Null Hypothesis\n",
      "The acceptance of alternative hypothesis may not be due to random chance\n",
      "There is a relationship between height and leadership qualities.\n"
     ]
    }
   ],
   "source": [
    "print('By performing hypothesis test at 1% level of significance:')\n",
    "if chi_table < chi_calc[0]:\n",
    "    print('Test falls in critical region. Hence, reject Null Hypothesis')\n",
    "    print('The acceptance of alternative hypothesis may not be due to random chance')\n",
    "    print(H1)\n",
    "else:\n",
    "    print('Test does not fall in critical region. Hence, accept Null Hypothesis')\n",
    "    print(H0)"
   ]
  },
  {
   "cell_type": "code",
   "execution_count": null,
   "metadata": {},
   "outputs": [],
   "source": []
  },
  {
   "attachments": {
    "image.png": {
     "image/png": "[encoded data removed]"
    }
   },
   "cell_type": "markdown",
   "metadata": {},
   "source": [
    "##### Q23: Each respondent in the Current Population Survey of March 1993 was classified as employed, unemployed, or outside the labor force. The results for men in California age 35- 44 can be cross-tabulated by marital status, as follows: \n",
    "![image.png](attachment:image.png)\n",
    "##### Men of different marital status seem to have different distributions of labor force status. Or is this just chance variation? (you may assume the table results from a simple random sample.)"
   ]
  },
  {
   "cell_type": "code",
   "execution_count": 86,
   "metadata": {},
   "outputs": [],
   "source": [
    "H0 = 'There is no difference in distribution of labor force status on marital status.'\n",
    "H1 = 'There is a difference in distribution of labor force status on marital status.'"
   ]
  },
  {
   "cell_type": "code",
   "execution_count": 87,
   "metadata": {},
   "outputs": [
    {
     "name": "stdout",
     "output_type": "stream",
     "text": [
      "                    Married  Widowed, Divorced or Separated  Never Married\n",
      "Employed                679                             103            114\n",
      "Unemployed               63                              10             20\n",
      "Not in Labor Force       42                              18             25\n"
     ]
    }
   ],
   "source": [
    "data = [(679, 103, 114), (63, 10, 20), (42, 18, 25)]\n",
    "marital = pd.DataFrame(data, columns=['Married', 'Widowed, Divorced or Separated', 'Never Married'], index=['Employed', 'Unemployed', 'Not in Labor Force'])\n",
    "print(marital)"
   ]
  },
  {
   "cell_type": "code",
   "execution_count": 88,
   "metadata": {},
   "outputs": [
    {
     "name": "stdout",
     "output_type": "stream",
     "text": [
      "Expected Frequency:\n",
      " [[654.06331471 109.2886406  132.64804469]\n",
      " [ 67.88826816  11.34357542  13.76815642]\n",
      " [ 62.04841713  10.36778399  12.58379888]]\n",
      "Calculated Chi Square value =  31.61310319407798\n",
      " Table Chi Square value at 5% SL=  9.487729036781154\n"
     ]
    }
   ],
   "source": [
    "chi_calc = sts.chi2_contingency(marital)\n",
    "print('Expected Frequency:\\n', chi_calc[3])\n",
    "print('Calculated Chi Square value = ', chi_calc[0])\n",
    "chi_table = sts.chi2.ppf(q=0.95,df=chi_calc[2])\n",
    "print(' Table Chi Square value at 5% SL= ', chi_table)"
   ]
  },
  {
   "cell_type": "code",
   "execution_count": 89,
   "metadata": {},
   "outputs": [
    {
     "name": "stdout",
     "output_type": "stream",
     "text": [
      "By performing hypothesis test at 5% level of significance:\n",
      "Test falls in critical region. Hence, reject Null Hypothesis\n",
      "The acceptance of alternative hypothesis may not be due to random chance\n",
      "There is a difference in distribution of labor force status on marital status.\n"
     ]
    }
   ],
   "source": [
    "print('By performing hypothesis test at 5% level of significance:')\n",
    "if chi_table < chi_calc[0]:\n",
    "    print('Test falls in critical region. Hence, reject Null Hypothesis')\n",
    "    print('The acceptance of alternative hypothesis may not be due to random chance')\n",
    "    print(H1)\n",
    "else:\n",
    "    print('Test does not fall in critical region. Hence, accept Null Hypothesis')\n",
    "    print(H0)"
   ]
  },
  {
   "cell_type": "code",
   "execution_count": null,
   "metadata": {},
   "outputs": [],
   "source": []
  }
 ],
 "metadata": {
  "kernelspec": {
   "display_name": "Python 3",
   "language": "python",
   "name": "python3"
  },
  "language_info": {
   "codemirror_mode": {
    "name": "ipython",
    "version": 3
   },
   "file_extension": ".py",
   "mimetype": "text/x-python",
   "name": "python",
   "nbconvert_exporter": "python",
   "pygments_lexer": "ipython3",
   "version": "3.7.6"
  }
 },
 "nbformat": 4,
 "nbformat_minor": 4
}
