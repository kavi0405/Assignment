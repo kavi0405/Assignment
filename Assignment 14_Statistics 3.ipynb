{
 "cells": [
  {
   "cell_type": "markdown",
   "metadata": {},
   "source": [
    "### Assignment 14: Statistics - 3"
   ]
  },
  {
   "cell_type": "code",
   "execution_count": 1,
   "metadata": {},
   "outputs": [],
   "source": [
    "# Importing Libraries\n",
    "\n",
    "from scipy import stats as sts\n",
    "import statsmodels as sm\n",
    "import numpy as np"
   ]
  },
  {
   "cell_type": "code",
   "execution_count": null,
   "metadata": {},
   "outputs": [],
   "source": []
  },
  {
   "cell_type": "markdown",
   "metadata": {},
   "source": [
    "##### Q1: Blood glucose levels for obese patients have a mean of 100 with a standard deviation of 15. A researcher thinks that a diet high in raw cornstarch will have a positive effect on blood glucose levels. A sample of 36 patients who have tried the raw cornstarch diet have a mean glucose level of 108. Test the hypothesis that the raw cornstarch had an effect or not."
   ]
  },
  {
   "cell_type": "code",
   "execution_count": 2,
   "metadata": {},
   "outputs": [],
   "source": [
    "H0='Null Hypothesis: The raw cornstarch does not have an effect on blood glucose level.'\n",
    "H1='Alternative Hypothesis: The raw cornstarch does have a positive effect on blood glucose level.'"
   ]
  },
  {
   "cell_type": "code",
   "execution_count": 3,
   "metadata": {},
   "outputs": [],
   "source": [
    "pop_mean, pop_sd, samp_mean, n = 100, 15, 108, 36"
   ]
  },
  {
   "cell_type": "code",
   "execution_count": 4,
   "metadata": {},
   "outputs": [
    {
     "name": "stdout",
     "output_type": "stream",
     "text": [
      "Z statistic =  3.2\n"
     ]
    }
   ],
   "source": [
    "se=pop_sd/np.sqrt(n)\n",
    "z_score=(samp_mean-pop_mean)/se\n",
    "print('Z statistic = ', z_score)"
   ]
  },
  {
   "cell_type": "code",
   "execution_count": 5,
   "metadata": {},
   "outputs": [
    {
     "name": "stdout",
     "output_type": "stream",
     "text": [
      "By performing hypothesis test at 5% level of significance:\n",
      "Test falls in critical region. Hence, reject Null Hypothesis\n",
      "The acceptance of alternative hypothesis may not be due to random chance\n",
      "Alternative Hypothesis: The raw cornstarch does have a positive effect on blood glucose level.\n"
     ]
    }
   ],
   "source": [
    "print('By performing hypothesis test at 5% level of significance:')\n",
    "if sts.norm.ppf(0.95) < z_score:\n",
    "    print('Test falls in critical region. Hence, reject Null Hypothesis')\n",
    "    print('The acceptance of alternative hypothesis may not be due to random chance')\n",
    "    print(H1)\n",
    "else:\n",
    "    print('Test does not fall in critical region. Hence, accept Null Hypothesis')\n",
    "    print(H0)"
   ]
  },
  {
   "cell_type": "code",
   "execution_count": null,
   "metadata": {},
   "outputs": [],
   "source": []
  },
  {
   "cell_type": "markdown",
   "metadata": {},
   "source": [
    "##### Q2: In one state, 52% of the voters are Republicans, and 48% are Democrats. In a second state, 47% of the voters are Republicans, and 53% are Democrats. Suppose a simple random sample of 100 voters are surveyed from each state. What is the probability that the survey will show a greater percentage of Republican voters in the second state than in the first state?"
   ]
  },
  {
   "cell_type": "code",
   "execution_count": 6,
   "metadata": {},
   "outputs": [],
   "source": [
    "# Population 1: First State\n",
    "n1, x1 = 100, 52\n",
    "p1 = x1 / n1\n",
    "\n",
    "# Population 2: Second State\n",
    "n2, x2 = 100, 47\n",
    "p2 = x2 / n2"
   ]
  },
  {
   "cell_type": "code",
   "execution_count": 7,
   "metadata": {},
   "outputs": [],
   "source": [
    "# Mean difference in sample proportions\n",
    "mean_diff = p1 - p2\n",
    "\n",
    "# Standard Deviation difference in sample proportions\n",
    "sd_diff = np.sqrt((p1 * (1 - p1) / n1) + (p2 * (1 - p2) / n2))"
   ]
  },
  {
   "cell_type": "code",
   "execution_count": 8,
   "metadata": {},
   "outputs": [
    {
     "name": "stdout",
     "output_type": "stream",
     "text": [
      "The probability that p1 is less than p2 =  -0.7080278164104213\n",
      "The probability of z_score  -0.7080278164104213 =  0.23946399182220013\n",
      "Probability that the survey will show a greater percentage of Republican voters in the second state than in the first state is  0.24\n"
     ]
    }
   ],
   "source": [
    "z_score = (0 - mean_diff) / sd_diff\n",
    "print('The probability that p1 is less than p2 = ', z_score)\n",
    "print('The probability of z_score ', z_score, '= ', sts.norm.cdf(z_score))\n",
    "\n",
    "print('Probability that the survey will show a greater percentage of Republican voters in the second state than in the first state is ', round(sts.norm.cdf(z_score),2))"
   ]
  },
  {
   "cell_type": "code",
   "execution_count": null,
   "metadata": {},
   "outputs": [],
   "source": []
  },
  {
   "cell_type": "markdown",
   "metadata": {},
   "source": [
    "##### Q3: You take the SAT and score 1100. The mean score for the SAT is 1026 and the standard deviation is 209. How well did you score on the test compared to the average test taker?"
   ]
  },
  {
   "cell_type": "code",
   "execution_count": 9,
   "metadata": {},
   "outputs": [],
   "source": [
    "x, mu, sd = 1100, 1026, 209"
   ]
  },
  {
   "cell_type": "code",
   "execution_count": 10,
   "metadata": {},
   "outputs": [
    {
     "name": "stdout",
     "output_type": "stream",
     "text": [
      "The percentage of test takers scored below you is  64.0\n"
     ]
    }
   ],
   "source": [
    "z_score = (x - mu) / sd\n",
    "z_table = sts.norm.cdf(z_score)\n",
    "print('The percentage of test takers scored below you is ', round(z_table,2)*100)"
   ]
  },
  {
   "cell_type": "code",
   "execution_count": null,
   "metadata": {},
   "outputs": [],
   "source": []
  }
 ],
 "metadata": {
  "kernelspec": {
   "display_name": "Python 3",
   "language": "python",
   "name": "python3"
  },
  "language_info": {
   "codemirror_mode": {
    "name": "ipython",
    "version": 3
   },
   "file_extension": ".py",
   "mimetype": "text/x-python",
   "name": "python",
   "nbconvert_exporter": "python",
   "pygments_lexer": "ipython3",
   "version": "3.7.6"
  }
 },
 "nbformat": 4,
 "nbformat_minor": 4
}
