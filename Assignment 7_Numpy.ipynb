{
 "cells": [
  {
   "cell_type": "markdown",
   "metadata": {},
   "source": [
    "### Assignment 7: Numpy"
   ]
  },
  {
   "cell_type": "markdown",
   "metadata": {},
   "source": [
    "##### Q1: Write a function so that the columns of the output matrix are powers of the input vector. The order of the powers is determined by the increasing boolean argument. Specifically, when increasing is False, the i-th output column is the input vector raised element-wise to the power of N - i - 1."
   ]
  },
  {
   "cell_type": "code",
   "execution_count": 8,
   "metadata": {},
   "outputs": [],
   "source": [
    "import numpy as np"
   ]
  },
  {
   "cell_type": "code",
   "execution_count": 9,
   "metadata": {},
   "outputs": [],
   "source": [
    "def output(inp,n,increasing):\n",
    "    if increasing:\n",
    "        mat = np.array([x**(n-1-i) for x in inp for i in range(n)]).reshape(inp.size,n)\n",
    "    else:\n",
    "        mat = np.array([x**i for x in inp for i in range(n)]).reshape(inp.size,n)\n",
    "    return mat"
   ]
  },
  {
   "cell_type": "code",
   "execution_count": 11,
   "metadata": {},
   "outputs": [
    {
     "name": "stdout",
     "output_type": "stream",
     "text": [
      "Enter the no. of columns in output matrix3\n",
      "Output Matrix in decreasing order:  [[ 1  1  1]\n",
      " [ 1  2  4]\n",
      " [ 1  3  9]\n",
      " [ 1  4 16]\n",
      " [ 1  5 25]]\n",
      "Output Matrix in increasing order:  [[ 1  1  1]\n",
      " [ 4  2  1]\n",
      " [ 9  3  1]\n",
      " [16  4  1]\n",
      " [25  5  1]]\n"
     ]
    }
   ],
   "source": [
    "inp=np.array([1,2,3,4,5])\n",
    "n=int(input('Enter the no. of columns in output matrix'))\n",
    "\n",
    "dec_order=output(inp,n,False)\n",
    "inc_order=output(inp,n,True)\n",
    "\n",
    "print('Output Matrix in decreasing order:\\n',dec_order)\n",
    "print('Output Matrix in increasing order:\\n',inc_order)"
   ]
  },
  {
   "cell_type": "markdown",
   "metadata": {},
   "source": [
    "##### Q2: Write a function to find moving average in an array over a window: Test it over [3, 5, 7, 2, 8, 10, 11, 65, 72, 81, 99, 100, 150] and window of 3."
   ]
  },
  {
   "cell_type": "code",
   "execution_count": 12,
   "metadata": {},
   "outputs": [],
   "source": [
    "def moving_average(li,k):\n",
    "    cum, mov_avg = [0], []\n",
    "    for i, x in enumerate(li, 1):\n",
    "        cum.append(cum[i-1] + x) \n",
    "        if i>=k:\n",
    "            mov_avg.append(round(((cum[i] - cum[i-k])/k),2)) \n",
    "    return mov_avg"
   ]
  },
  {
   "cell_type": "code",
   "execution_count": 15,
   "metadata": {},
   "outputs": [
    {
     "name": "stdout",
     "output_type": "stream",
     "text": [
      "Moving Average: 5.0 4.67 5.67 6.67 9.67 28.67 49.33 72.67 84.0 93.33 116.33\n"
     ]
    }
   ],
   "source": [
    "my_list=[3, 5, 7, 2, 8, 10, 11, 65, 72, 81, 99, 100, 150]\n",
    "win=3\n",
    "res=moving_average(my_list,win)\n",
    "print('Moving Average:',res)"
   ]
  }
 ],
 "metadata": {
  "kernelspec": {
   "display_name": "Python 3",
   "language": "python",
   "name": "python3"
  },
  "language_info": {
   "codemirror_mode": {
    "name": "ipython",
    "version": 3
   },
   "file_extension": ".py",
   "mimetype": "text/x-python",
   "name": "python",
   "nbconvert_exporter": "python",
   "pygments_lexer": "ipython3",
   "version": "3.7.6"
  }
 },
 "nbformat": 4,
 "nbformat_minor": 4
}
